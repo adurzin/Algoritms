{
 "cells": [
  {
   "cell_type": "markdown",
   "id": "43224f14",
   "metadata": {},
   "source": [
    "# Домашнее задание №2."
   ]
  },
  {
   "cell_type": "markdown",
   "id": "2f28cb82",
   "metadata": {},
   "source": [
    "#### 1. *Сгенерировать датасет при помощи sklearn.datasets.make_regression и обучить линейную модель при помощи градиентного спуска и стохастического градиентного спуска. Построить графики среднеквадратичной ошибки от числа итераций для обоих методов на одном рисунке, сделать выводы о разнице скорости сходимости каждого из методов.*"
   ]
  },
  {
   "cell_type": "code",
   "execution_count": 182,
   "id": "d9b128e3",
   "metadata": {},
   "outputs": [],
   "source": [
    "import numpy as np\n",
    "from sklearn import datasets\n",
    "from matplotlib import pyplot as plt\n",
    "\n",
    "%matplotlib inline"
   ]
  },
  {
   "cell_type": "code",
   "execution_count": 183,
   "id": "281fc3a2",
   "metadata": {},
   "outputs": [],
   "source": [
    "X_, y_, coef = datasets.make_regression(n_samples=10000,\n",
    "                                       n_features=3,\n",
    "                                       n_informative=3,\n",
    "                                       n_targets=1,\n",
    "                                       noise=2,\n",
    "                                       coef=True,\n",
    "                                       random_state=15)"
   ]
  },
  {
   "cell_type": "code",
   "execution_count": 184,
   "id": "1dcb9065",
   "metadata": {},
   "outputs": [
    {
     "data": {
      "text/plain": [
       "array([56.78437196, 23.7256946 , 44.40999046])"
      ]
     },
     "execution_count": 184,
     "metadata": {},
     "output_type": "execute_result"
    }
   ],
   "source": [
    "coef"
   ]
  },
  {
   "cell_type": "markdown",
   "id": "0b406d2d",
   "metadata": {},
   "source": [
    "*Стандартизация выборки X_:*"
   ]
  },
  {
   "cell_type": "code",
   "execution_count": 185,
   "id": "7f13acb1",
   "metadata": {},
   "outputs": [],
   "source": [
    "def standartization(x: np.ndarray) -> np.ndarray:\n",
    "    '''Функция принимает и возвращает одномерный массив'''\n",
    "    s = (x - x.mean()) / x.std()\n",
    "    return s"
   ]
  },
  {
   "cell_type": "code",
   "execution_count": 194,
   "id": "032753a0",
   "metadata": {},
   "outputs": [],
   "source": [
    "X_stand = X_.copy().astype(np.float64)"
   ]
  },
  {
   "cell_type": "code",
   "execution_count": 196,
   "id": "c94d4c58",
   "metadata": {},
   "outputs": [],
   "source": [
    "X_stand[:, 0] = standartization(X_[:, 0])\n",
    "X_stand[:, 1] = standartization(X_[:, 1])\n",
    "X_stand[:, 2] = standartization(X_[:, 2])"
   ]
  },
  {
   "cell_type": "markdown",
   "id": "57dbaab4",
   "metadata": {},
   "source": [
    "*Метод градиентного спуска:*"
   ]
  },
  {
   "cell_type": "code",
   "execution_count": 197,
   "id": "cf68ef5d",
   "metadata": {},
   "outputs": [],
   "source": [
    "def calc_mse(y, y_pred):\n",
    "    err = np.mean((y - y_pred) ** 2)\n",
    "    return err"
   ]
  },
  {
   "cell_type": "code",
   "execution_count": 198,
   "id": "69ef2c26",
   "metadata": {},
   "outputs": [],
   "source": [
    "def grad(X, y, iterations, eta=0.01, verbose=False):\n",
    "    np.random.seed(15)\n",
    "    w = np.random.randn(X.shape[1])\n",
    "    n = X.shape[0]\n",
    "    for i in range(1, iterations + 1):\n",
    "        y_pred = np.dot(X, w)\n",
    "        err = calc_mse(y, y_pred)\n",
    "        w -= eta * (1 / n * 2 * np.dot(X.T, (y_pred - y)))\n",
    "        if verbose and i % (iterations / 10) == 0:\n",
    "            print(f'{i}: weights{w}, MSE={err:.3f}')\n",
    "    return w"
   ]
  },
  {
   "cell_type": "markdown",
   "id": "a4e8ea24",
   "metadata": {},
   "source": [
    "*Метод стохастического градиентного спуска:*"
   ]
  },
  {
   "cell_type": "code",
   "execution_count": 199,
   "id": "707d7594",
   "metadata": {},
   "outputs": [],
   "source": [
    "def grad_sth(X, y, iterations, eta=0.01, verbose=False):\n",
    "    np.random.seed(15)\n",
    "    w = np.random.randn(X.shape[1])\n",
    "    n = X.shape[0]\n",
    "    for i in range(1, iterations + 1):\n",
    "        err = calc_mse(y, np.dot(X, w))\n",
    "        ind = np.random.randint(n)\n",
    "        y_pred = np.dot(X[ind], w)\n",
    "        w -= eta * (2 * np.dot(X[ind].T, (y_pred - y[ind])))\n",
    "        if verbose and i % (iterations / 10) == 0:\n",
    "            print(f'{i}: weights={w}, MSE={err:.3f}')\n",
    "    return w"
   ]
  },
  {
   "cell_type": "markdown",
   "id": "b5e09d77",
   "metadata": {},
   "source": [
    "*Метод градиентного спуска mini-batch:*"
   ]
  },
  {
   "cell_type": "code",
   "execution_count": 200,
   "id": "269a7ef7",
   "metadata": {},
   "outputs": [],
   "source": [
    "def grad_mb(X, y, iterations, batch=10, eta=0.01):\n",
    "    np.random.seed(15)\n",
    "    w = np.random.randn(X.shape[1])\n",
    "    n = X.shape[0] #число наблюдений\n",
    "    n_batch = n // batch # число батчей\n",
    "    if n % batch != 0:\n",
    "        n_batch += 1\n",
    "    print('Количество батчей -', n_batch)\n",
    "    for i in range(1, iterations + 1):\n",
    "        err = calc_mse(y, np.dot(X, w))\n",
    "        for b in range(n_batch):\n",
    "            start_ = batch * b\n",
    "            end_ = batch * (b + 1)\n",
    "            X_batch = X[start_ : end_, :]\n",
    "            y_batch = y[start_: end_]\n",
    "            y_pred = np.dot(X_batch, w)\n",
    "            \n",
    "            w -= eta * (1 / y_pred.shape[0] * 2 * np.dot(X_batch.T, (y_pred - y_batch)))\n",
    "        print(f'{i}: weights={w}, MSE={err:.3f}')\n",
    "    return err, w "
   ]
  },
  {
   "cell_type": "markdown",
   "id": "fcf90746",
   "metadata": {},
   "source": [
    "*Визуализация сравнения среднеквадратичных ошибок разных методов в зависимости от итераций:*"
   ]
  },
  {
   "cell_type": "code",
   "execution_count": 201,
   "id": "4afbab52",
   "metadata": {},
   "outputs": [],
   "source": [
    "iteration_list = []\n",
    "w_list_1, w_list_2 = [], []\n",
    "error_list_1, error_list_2 = [], []\n",
    "\n",
    "for iterations in range(10, 301, 20):\n",
    "    iteration_list.append(iterations)\n",
    "    w_new_1 = grad(X_stand, y_, iterations)\n",
    "    w_new_2 = grad_sth(X_stand, y_, iterations)\n",
    "    w_list_1.append(w_new_1)\n",
    "    w_list_1.append(w_new_2)\n",
    "    error_list_1.append(calc_mse(y_, np.dot(X_stand, w_new_1)))\n",
    "    error_list_2.append(calc_mse(y_, np.dot(X_stand, w_new_2)))\n",
    "\n",
    "errors_1 = np.array(error_list_1)\n",
    "errors_2 = np.array(error_list_2)"
   ]
  },
  {
   "cell_type": "code",
   "execution_count": 202,
   "id": "6deb3155",
   "metadata": {
    "scrolled": false
   },
   "outputs": [
    {
     "data": {
      "image/png": "[encoded data removed]",
      "text/plain": [
       "<Figure size 720x360 with 1 Axes>"
      ]
     },
     "metadata": {
      "needs_background": "light"
     },
     "output_type": "display_data"
    }
   ],
   "source": [
    "plt.figure(figsize=(10, 5))\n",
    "plt.xscale('log')\n",
    "plt.plot(iteration_list, errors_1, 'o-', label='grad', color='green')\n",
    "plt.plot(iteration_list, errors_2, 'o-', label='grad_sth', color='red')\n",
    "plt.xlabel('Количество итераций')\n",
    "plt.ylabel('MSE')\n",
    "plt.legend()\n",
    "plt.grid();"
   ]
  },
  {
   "cell_type": "markdown",
   "id": "8f94b5be",
   "metadata": {},
   "source": [
    "*Исходя из графика выше можно сделать вывод о более быстрой сходимости градиентного спуска в отличие от стохастического градиентного спуска.*\n"
   ]
  },
  {
   "cell_type": "code",
   "execution_count": 203,
   "id": "809c652b",
   "metadata": {},
   "outputs": [
    {
     "name": "stdout",
     "output_type": "stream",
     "text": [
      "40: weights[31.17545294 13.21627695 24.74573345], MSE=1229.736\n",
      "80: weights[45.32867768 19.057453   35.96856825], MSE=252.662\n",
      "120: weights[51.69054625 21.70669915 41.0264548 ], MSE=54.544\n",
      "160: weights[54.55030702 22.90808437 43.30589258], MSE=14.371\n",
      "200: weights[55.83586067 23.4528152  44.33314878], MSE=6.225\n",
      "240: weights[56.41377836 23.69977314 44.79608628], MSE=4.573\n",
      "280: weights[56.67358893 23.81171873 45.00470762], MSE=4.238\n",
      "320: weights[56.7903942  23.86245698 45.09872065], MSE=4.170\n",
      "360: weights[56.84290912 23.88545074 45.14108598], MSE=4.157\n",
      "400: weights[56.86652029 23.89586988 45.16017689], MSE=4.154\n",
      "Wall time: 91 ms\n"
     ]
    },
    {
     "data": {
      "text/plain": [
       "array([56.86652029, 23.89586988, 45.16017689])"
      ]
     },
     "execution_count": 203,
     "metadata": {},
     "output_type": "execute_result"
    }
   ],
   "source": [
    "%%time\n",
    "grad(X_stand, y_, 400, verbose=True)"
   ]
  },
  {
   "cell_type": "code",
   "execution_count": 204,
   "id": "16c22b06",
   "metadata": {},
   "outputs": [
    {
     "name": "stdout",
     "output_type": "stream",
     "text": [
      "45: weights=[31.24122487 14.48617874 14.28983474], MSE=1701.144\n",
      "90: weights=[42.54814181 22.33925404 29.56312266], MSE=466.565\n",
      "135: weights=[51.51201151 24.32404475 39.77178934], MSE=62.804\n",
      "180: weights=[55.35881754 24.42222211 42.64926338], MSE=13.189\n",
      "225: weights=[56.42743593 23.56659123 44.41863765], MSE=5.141\n",
      "270: weights=[56.54218828 23.66008659 44.71436989], MSE=4.534\n",
      "315: weights=[56.61178374 23.37139542 44.68759638], MSE=4.743\n",
      "360: weights=[56.36621488 23.97794152 45.25976214], MSE=4.449\n",
      "405: weights=[56.82435534 24.17775887 44.99393556], MSE=4.248\n",
      "450: weights=[56.86867673 23.98746254 45.20873525], MSE=4.161\n",
      "Wall time: 78 ms\n"
     ]
    },
    {
     "data": {
      "text/plain": [
       "array([56.86867673, 23.98746254, 45.20873525])"
      ]
     },
     "execution_count": 204,
     "metadata": {},
     "output_type": "execute_result"
    }
   ],
   "source": [
    "%%time\n",
    "grad_sth(X_stand, y_, 450, verbose=True)"
   ]
  },
  {
   "cell_type": "code",
   "execution_count": 205,
   "id": "d117de12",
   "metadata": {
    "scrolled": true
   },
   "outputs": [
    {
     "name": "stdout",
     "output_type": "stream",
     "text": [
      "Количество батчей - 100\n",
      "1: weights=[49.14032705 20.64653646 39.00492565], MSE=5812.209\n",
      "2: weights=[55.83322435 23.45934608 44.33974556], MSE=111.471\n",
      "3: weights=[56.73924389 23.84859825 45.06641939], MSE=6.133\n",
      "4: weights=[56.86191895 23.9024191  45.16539188], MSE=4.189\n",
      "5: weights=[56.87853267 23.90985483 45.17887057], MSE=4.154\n",
      "Wall time: 13 ms\n"
     ]
    },
    {
     "data": {
      "text/plain": [
       "(4.153750881036404, array([56.87853267, 23.90985483, 45.17887057]))"
      ]
     },
     "execution_count": 205,
     "metadata": {},
     "output_type": "execute_result"
    }
   ],
   "source": [
    "%%time\n",
    "grad_mb(X_stand, y_, 5, batch=100)"
   ]
  },
  {
   "cell_type": "markdown",
   "id": "ac9d2e15",
   "metadata": {},
   "source": [
    "*Метод градиентного спуска mini-batch нельзя сравнить с предыдущими градиентными спусками по итерациям. Но если исходить из скорости работы и точности, то метод mini-batch намного быстрее предыдущих при той же точности (скорость работы в разы выше 14ms в отношении 103ms и 77ms соответственно).*"
   ]
  },
  {
   "cell_type": "markdown",
   "id": "a1a11278",
   "metadata": {},
   "source": [
    "#### 2.* *Добавить в алгоритм градиентного спуска L1 регуляризацию. Сравнить влияние коэффициентов регуляризации L1 и L2 на величину весов для примера из урока (лучше графически).*"
   ]
  },
  {
   "cell_type": "markdown",
   "id": "4882250a",
   "metadata": {},
   "source": [
    "*Начальные данные:*"
   ]
  },
  {
   "cell_type": "code",
   "execution_count": 206,
   "id": "420f5c18",
   "metadata": {},
   "outputs": [],
   "source": [
    "X = np.array([[1, 1, 1, 1, 1, 1, 1, 1, 1, 1],\n",
    "              [1, 1, 2, 1, 3, 0, 5, 10, 1, 2],  # стаж репетитора\n",
    "              [500, 700, 750, 600, 1450,        # средняя стоимость занятия\n",
    "               800, 1500, 2000, 450, 1000],\n",
    "              [21, 25, 27, 20, 25, 18, 35, 60, 20, 30]]).T  # возраст репетитора\n",
    "               \n",
    "y = [45, 55, 50, 59, 65, 35, 75, 80, 50, 60]    # средний балл ЕГЭ (целевая переменная)"
   ]
  },
  {
   "cell_type": "code",
   "execution_count": 208,
   "id": "8a397ba2",
   "metadata": {},
   "outputs": [],
   "source": [
    "X_st = X.copy().astype(np.float64)"
   ]
  },
  {
   "cell_type": "markdown",
   "id": "28382384",
   "metadata": {},
   "source": [
    "*Стандартизация*"
   ]
  },
  {
   "cell_type": "code",
   "execution_count": 209,
   "id": "b12178f3",
   "metadata": {},
   "outputs": [],
   "source": [
    "X_st[:, 1] = standartization(X[:, 1])\n",
    "X_st[:, 2] = standartization(X[:, 2])\n",
    "X_st[:, 3] = standartization(X[:, 3])"
   ]
  },
  {
   "cell_type": "code",
   "execution_count": 210,
   "id": "003dcc75",
   "metadata": {},
   "outputs": [
    {
     "data": {
      "text/plain": [
       "array([[ 1.        , -0.57142857, -0.97958969, -0.60595294],\n",
       "       [ 1.        , -0.57142857, -0.56713087, -0.264571  ],\n",
       "       [ 1.        , -0.21428571, -0.46401617, -0.09388003],\n",
       "       [ 1.        , -0.57142857, -0.77336028, -0.69129842],\n",
       "       [ 1.        ,  0.14285714,  0.97958969, -0.264571  ],\n",
       "       [ 1.        , -0.92857143, -0.36090146, -0.86198939],\n",
       "       [ 1.        ,  0.85714286,  1.08270439,  0.58888384],\n",
       "       [ 1.        ,  2.64285714,  2.11385144,  2.72252095],\n",
       "       [ 1.        , -0.57142857, -1.08270439, -0.69129842],\n",
       "       [ 1.        , -0.21428571,  0.05155735,  0.16215642]])"
      ]
     },
     "execution_count": 210,
     "metadata": {},
     "output_type": "execute_result"
    }
   ],
   "source": [
    "X_st"
   ]
  },
  {
   "cell_type": "markdown",
   "id": "33793b33",
   "metadata": {},
   "source": [
    "*Градиентный спуск*"
   ]
  },
  {
   "cell_type": "code",
   "execution_count": 264,
   "id": "6185fe01",
   "metadata": {
    "scrolled": true
   },
   "outputs": [
    {
     "name": "stdout",
     "output_type": "stream",
     "text": [
      "150: weights[54.61272416  4.68015476  4.21982348  2.38067796], MSE=52.851\n",
      "300: weights[57.26538567  5.12764773  4.54735673  1.60867178], MSE=44.173\n",
      "450: weights[57.39349866  5.59315532  4.70514169  0.98156635], MSE=43.728\n",
      "600: weights[57.39968601  6.05917203  4.76103939  0.45306401], MSE=43.394\n",
      "750: weights[ 5.73999848e+01  6.51512437e+00  4.75642693e+00 -6.33138377e-03], MSE=43.114\n",
      "900: weights[57.39999927  6.95508549  4.71671844 -0.41531411], MSE=42.872\n",
      "1050: weights[57.39999996  7.37596325  4.65747749 -0.78587937], MSE=42.660\n",
      "1200: weights[57.4         7.77638325  4.58819164 -1.12585881], MSE=42.473\n",
      "1350: weights[57.4         8.15600082  4.51460307 -1.4404881 ], MSE=42.307\n",
      "1500: weights[57.4         8.51507794  4.44014766 -1.73337637], MSE=42.160\n"
     ]
    },
    {
     "data": {
      "text/plain": [
       "array([57.4       ,  8.51507794,  4.44014766, -1.73337637])"
      ]
     },
     "execution_count": 264,
     "metadata": {},
     "output_type": "execute_result"
    }
   ],
   "source": [
    "grad(X_st, y, iterations=1500, eta=0.01, verbose=True)"
   ]
  },
  {
   "cell_type": "markdown",
   "id": "4f394b78",
   "metadata": {},
   "source": [
    "*L1-регуляризация:*"
   ]
  },
  {
   "cell_type": "code",
   "execution_count": 357,
   "id": "9e626d3a",
   "metadata": {},
   "outputs": [],
   "source": [
    "def eval_model_reg1(X, y, iterations, eta=0.001, lambda_=10e-8, verbose=False):\n",
    "    np.random.seed(15)\n",
    "    w = np.random.randn(X.shape[1])\n",
    "    n = X.shape[0]\n",
    "    for i in range(1, iterations + 1):\n",
    "        y_pred = np.dot(X, w)\n",
    "        err = calc_mse(y, y_pred)\n",
    "        w -= eta * (1/n * 2 * np.dot(X.T, (y_pred - y)) + lambda_ * w / np.abs(w))\n",
    "        if verbose and i % (iterations / 10) == 0:\n",
    "            print(f'{i}: weights={w}, MSE={err:.3f}')\n",
    "    return w"
   ]
  },
  {
   "cell_type": "markdown",
   "id": "6f884fd6",
   "metadata": {},
   "source": [
    "*L2-регуляризация:*"
   ]
  },
  {
   "cell_type": "code",
   "execution_count": 360,
   "id": "6197b1c1",
   "metadata": {},
   "outputs": [],
   "source": [
    "def eval_model_reg2(X, y, iterations, eta=0.001, lambda_=10e-8, verbose=False):\n",
    "    np.random.seed(15)\n",
    "    w = np.random.randn(X.shape[1])\n",
    "    n = X.shape[0]\n",
    "    for i in range(1, iterations + 1):\n",
    "        y_pred = np.dot(X, w)\n",
    "        err = calc_mse(y, y_pred)\n",
    "        w -= eta * (1/n * 2 * np.dot(X.T, (y_pred - y)) + 2 * lambda_ * w)\n",
    "        if verbose and i % (iterations / 10) == 0:\n",
    "            print(f'{i}: weights={w}, MSE={err:.3f}')\n",
    "    return w"
   ]
  },
  {
   "cell_type": "markdown",
   "id": "d1b9e1db",
   "metadata": {},
   "source": [
    "*Визуальное сравнение коэффициентов регуляризации:*"
   ]
  },
  {
   "cell_type": "markdown",
   "id": "2c6754a3",
   "metadata": {},
   "source": [
    "**L1 регуляризация**"
   ]
  },
  {
   "cell_type": "code",
   "execution_count": 415,
   "id": "54f68be7",
   "metadata": {},
   "outputs": [],
   "source": [
    "w_list = []\n",
    "l_list = []\n",
    "error_list =[]\n",
    "\n",
    "for l in np.logspace(start=-4, stop=1, num=30):\n",
    "    l_list.append(l)\n",
    "    w_new = eval_model_reg1(X_st, y, iterations=1500, eta=0.01, lambda_=l)\n",
    "    w_list.append(w_new)\n",
    "    error_list.append(calc_mse(y, np.dot(X_st, w_new)))\n",
    "weights_l1 = np.array(w_list)\n",
    "errors_l1 = np.array(error_list)"
   ]
  },
  {
   "cell_type": "markdown",
   "id": "f9edff9f",
   "metadata": {},
   "source": [
    "**L2 регуляризация**"
   ]
  },
  {
   "cell_type": "code",
   "execution_count": 416,
   "id": "794635d9",
   "metadata": {},
   "outputs": [],
   "source": [
    "w_list = []\n",
    "l_list = []\n",
    "error_list =[]\n",
    "\n",
    "for l in np.logspace(start=-4, stop=1, num=30):\n",
    "    l_list.append(l)\n",
    "    w_new = eval_model_reg2(X_st, y, iterations=1500, eta=0.01, lambda_=l)\n",
    "    w_list.append(w_new)\n",
    "    error_list.append(calc_mse(y, np.dot(X_st, w_new)))\n",
    "weights_l2 = np.array(w_list)\n",
    "errors_l2 = np.array(error_list)"
   ]
  },
  {
   "cell_type": "markdown",
   "id": "a62e4e6a",
   "metadata": {},
   "source": [
    "*График*"
   ]
  },
  {
   "cell_type": "code",
   "execution_count": 421,
   "id": "d119485d",
   "metadata": {},
   "outputs": [
    {
     "data": {
      "image/png": "[encoded data removed]",
      "text/plain": [
       "<Figure size 1008x576 with 1 Axes>"
      ]
     },
     "metadata": {
      "needs_background": "light"
     },
     "output_type": "display_data"
    }
   ],
   "source": [
    "plt.figure(figsize=(14, 8))\n",
    "plt.xscale('log')\n",
    "plt.plot(l_list, weights_l1[:, 1], 'ro-', label=r'L1')\n",
    "plt.plot(l_list, weights_l2[:, 1], 'bo-', label=r'L2')\n",
    "plt.plot(l_list, weights_l1[:, 2], 'ro-')\n",
    "plt.plot(l_list, weights_l2[:, 2], 'bo-')\n",
    "plt.plot(l_list, weights_l1[:, 3], 'ro-')\n",
    "plt.plot(l_list, weights_l2[:, 3], 'bo-')\n",
    "plt.xlabel('Коэффициент L1 регуляризации')\n",
    "plt.ylabel('Веса')\n",
    "plt.grid()\n",
    "plt.legend();"
   ]
  },
  {
   "cell_type": "code",
   "execution_count": 422,
   "id": "7426419a",
   "metadata": {},
   "outputs": [
    {
     "data": {
      "image/png": "[encoded data removed]",
      "text/plain": [
       "<Figure size 720x360 with 1 Axes>"
      ]
     },
     "metadata": {
      "needs_background": "light"
     },
     "output_type": "display_data"
    }
   ],
   "source": [
    "plt.figure(figsize=(10, 5))\n",
    "plt.xscale('log')\n",
    "plt.plot(l_list, errors_l1, 'ro-', label='L1')\n",
    "plt.plot(l_list, errors_l2, 'bo-', label='L2')\n",
    "plt.xlabel('Коэффициент регуляризации')\n",
    "plt.ylabel('MSE')\n",
    "plt.legend()\n",
    "plt.grid();"
   ]
  },
  {
   "cell_type": "markdown",
   "id": "f0b0d746",
   "metadata": {},
   "source": [
    "    Исходя из графиков можно понять, что коэффициент L2 регуляризации намного грубее работает с весами, чем L1 регуляризация.\n",
    "    То-есть \"штраф\" за переобучение модели намного выше у L2 регуляризации при остальных одинаковых параметрах модели."
   ]
  },
  {
   "cell_type": "code",
   "execution_count": null,
   "id": "4b921cc1",
   "metadata": {},
   "outputs": [],
   "source": []
  }
 ],
 "metadata": {
  "kernelspec": {
   "display_name": "Python 3 (ipykernel)",
   "language": "python",
   "name": "python3"
  },
  "language_info": {
   "codemirror_mode": {
    "name": "ipython",
    "version": 3
   },
   "file_extension": ".py",
   "mimetype": "text/x-python",
   "name": "python",
   "nbconvert_exporter": "python",
   "pygments_lexer": "ipython3",
   "version": "3.9.2"
  }
 },
 "nbformat": 4,
 "nbformat_minor": 5
}
