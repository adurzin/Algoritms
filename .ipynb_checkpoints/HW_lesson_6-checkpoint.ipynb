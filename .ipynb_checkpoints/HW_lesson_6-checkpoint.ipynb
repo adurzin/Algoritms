{
 "cells": [
  {
   "cell_type": "markdown",
   "id": "d5247e04",
   "metadata": {},
   "source": [
    "# Урок №6. Домашнее задание."
   ]
  },
  {
   "cell_type": "markdown",
   "id": "daa514af",
   "metadata": {},
   "source": [
    "1. Задание.\n",
    "    - Для реализованной в методичке модели градиентного бустинга построить зависимости ошибки от количества деревьев при разных значениях шага градиента на одном графике и для разной глубины деревьев на другом. \n",
    "    - Сделать выводы о зависимости ошибки от этих гиперпараметров (шаг градиента, максимальная глубина деревьев, количество деревьев). \n",
    "    - Подобрать оптимальные значения этих гиперпараметров (минимум ошибки на тесте при отсутствии переобучения)."
   ]
  },
  {
   "cell_type": "code",
   "execution_count": 6,
   "id": "3fd68a42",
   "metadata": {},
   "outputs": [],
   "source": [
    "from sklearn.tree import DecisionTreeRegressor\n",
    "\n",
    "from sklearn import model_selection\n",
    "import numpy as np"
   ]
  },
  {
   "cell_type": "code",
   "execution_count": 7,
   "id": "dfe03203",
   "metadata": {},
   "outputs": [],
   "source": [
    "from sklearn.datasets import load_diabetes"
   ]
  },
  {
   "cell_type": "code",
   "execution_count": 8,
   "id": "224e8d99",
   "metadata": {},
   "outputs": [
    {
     "data": {
      "text/plain": [
       "((442, 10), (442,))"
      ]
     },
     "execution_count": 8,
     "metadata": {},
     "output_type": "execute_result"
    }
   ],
   "source": [
    "X, y = load_diabetes(return_X_y=True)\n",
    "X.shape, y.shape"
   ]
  },
  {
   "cell_type": "code",
   "execution_count": 10,
   "id": "ad252077",
   "metadata": {},
   "outputs": [],
   "source": [
    "X_train, X_test, y_train, y_test = model_selection.train_test_split(X, y, test_size=0.25, random_state=42)"
   ]
  },
  {
   "cell_type": "markdown",
   "id": "d38a29e7",
   "metadata": {},
   "source": [
    "\n",
    "$$a_{N}(x) = \\sum^{N}_{n=1}\\eta\\gamma_{n}b_{n}(x).$$"
   ]
  },
  {
   "cell_type": "code",
   "execution_count": null,
   "id": "a6f6870c",
   "metadata": {},
   "outputs": [],
   "source": [
    "def gb_predict(X, trees_list, coef_list, eta):\n",
    "    # Реализуемый алгоритм градиентного бустинга будет инициализироваться нулевыми значениями,\n",
    "    # поэтому все деревья из списка trees_list уже являются дополнительными и при предсказании \n",
    "    # прибавляются с шагом eta\n",
    "    return np.array([sum([\n",
    "        eta * coef * alg.predict([x])[0] for alg, coef in zip(trees_list, coef_list)])\n",
    "                     for x in X])"
   ]
  },
  {
   "cell_type": "code",
   "execution_count": 11,
   "id": "10e0afc2",
   "metadata": {},
   "outputs": [],
   "source": [
    "def mean_squared_error(y_real, predictrion):\n",
    "    return (sum((y_real - prediction) ** 2)) / len(y_real)"
   ]
  },
  {
   "cell_type": "markdown",
   "id": "1cbb2e04",
   "metadata": {},
   "source": [
    "Используем $L_{2}$ loss $L(y, z) = (y-z)^{2},$ ее производная по $z$ примет вид $L'(y, z) = 2(z-y)$. Тогда сдвиг будет равен $s =- L'(y, z)$. "
   ]
  },
  {
   "cell_type": "code",
   "execution_count": 12,
   "id": "be1db9dc",
   "metadata": {},
   "outputs": [],
   "source": [
    "def bias(y, z):\n",
    "    return -2 * (z - y)"
   ]
  },
  {
   "cell_type": "markdown",
   "id": "5bf609e6",
   "metadata": {},
   "source": [
    "Функция градиентного бустинга:"
   ]
  },
  {
   "cell_type": "code",
   "execution_count": null,
   "id": "10346a42",
   "metadata": {},
   "outputs": [],
   "source": [
    "def gb_fit(n_trees, max_depth, X_train, X_test, y_train, y_test, coefs, eta):\n",
    "    \n",
    "    # eta - скорость обучения\n",
    "    # Деревья будем записывать в список\n",
    "    trees = []\n",
    "    \n",
    "    # Будем записывать ошибки на обучающей и тестовой выборке на каждой итерации в список\n",
    "    train_errors = []\n",
    "    test_errors = []\n",
    "    \n",
    "    for i in range(n_trees):\n",
    "        tree = DecisionTreeRegressor(max_depth=max_depth, random_state=42)\n",
    "        \n",
    "        # инициализируем бустинг начальным алгоритмом, возвращающим ноль\n",
    "        # поэтому первый алгоритм просто обучаем на выборке и добавляем в список\n",
    "        if len(trees) == 0:\n",
    "            # обучаем первое дерево на обучающей выборке\n",
    "            tree.fit(X_train, y_train)\n",
    "            \n",
    "            "
   ]
  },
  {
   "cell_type": "code",
   "execution_count": null,
   "id": "a8554808",
   "metadata": {},
   "outputs": [],
   "source": []
  },
  {
   "cell_type": "markdown",
   "id": "8e7583ae",
   "metadata": {},
   "source": [
    "2. (\\*) Модифицировать реализованный алгоритм, чтобы получился стохастический градиентный бустинг. Размер подвыборки принять равным 0.5.    Сравнить на одном графике кривые  изменения ошибки на тестовой выборке в зависимости от  числа итераций."
   ]
  },
  {
   "cell_type": "code",
   "execution_count": null,
   "id": "c0e216fa",
   "metadata": {},
   "outputs": [],
   "source": []
  },
  {
   "cell_type": "code",
   "execution_count": null,
   "id": "41318aeb",
   "metadata": {},
   "outputs": [],
   "source": []
  },
  {
   "cell_type": "code",
   "execution_count": null,
   "id": "845c2467",
   "metadata": {},
   "outputs": [],
   "source": []
  },
  {
   "cell_type": "code",
   "execution_count": null,
   "id": "c840783c",
   "metadata": {},
   "outputs": [],
   "source": []
  },
  {
   "cell_type": "markdown",
   "id": "cd010051",
   "metadata": {},
   "source": [
    "3. (\\*) Модифицировать алгоритм градиентного бустинга, взяв за основу реализацию решающего дерева из ДЗ_4 (для задачи регрессии). Сделать выводы о качестве алгоритма по сравнению с реализацией из п.1."
   ]
  },
  {
   "cell_type": "code",
   "execution_count": null,
   "id": "741e90e9",
   "metadata": {},
   "outputs": [],
   "source": []
  },
  {
   "cell_type": "code",
   "execution_count": null,
   "id": "072c9a8e",
   "metadata": {},
   "outputs": [],
   "source": []
  },
  {
   "cell_type": "code",
   "execution_count": null,
   "id": "866a306c",
   "metadata": {},
   "outputs": [],
   "source": []
  },
  {
   "cell_type": "code",
   "execution_count": null,
   "id": "e20d4897",
   "metadata": {},
   "outputs": [],
   "source": []
  }
 ],
 "metadata": {
  "kernelspec": {
   "display_name": "Python 3 (ipykernel)",
   "language": "python",
   "name": "python3"
  },
  "language_info": {
   "codemirror_mode": {
    "name": "ipython",
    "version": 3
   },
   "file_extension": ".py",
   "mimetype": "text/x-python",
   "name": "python",
   "nbconvert_exporter": "python",
   "pygments_lexer": "ipython3",
   "version": "3.10.4"
  }
 },
 "nbformat": 4,
 "nbformat_minor": 5
}
