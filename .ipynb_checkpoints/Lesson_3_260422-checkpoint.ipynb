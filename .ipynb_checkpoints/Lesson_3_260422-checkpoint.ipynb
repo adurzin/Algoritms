{
 "cells": [
  {
   "cell_type": "markdown",
   "metadata": {},
   "source": [
    "# Урок 3. Логистическая регрессия. Log Loss"
   ]
  },
  {
   "cell_type": "markdown",
   "metadata": {
    "toc": true
   },
   "source": [
    "<h1>План урока<span class=\"tocSkip\"></span></h1>\n",
    "<div class=\"toc\"><ul class=\"toc-item\"><li><span><a href=\"#Логистическая-регрессия\" data-toc-modified-id=\"Логистическая-регрессия-1\">Логистическая регрессия</a></span></li><li><span><a href=\"#Логистическая-функция-потерь\" data-toc-modified-id=\"Логистическая-функция-потерь-2\">Логистическая функция потерь</a></span></li><li><span><a href=\"#Пример\" data-toc-modified-id=\"Пример-3\">Пример</a></span></li><li><span><a href=\"#Домашние-задания\" data-toc-modified-id=\"Домашние-задания-4\">Домашние задания</a></span></li></ul></div>"
   ]
  },
  {
   "cell_type": "code",
   "execution_count": 1,
   "metadata": {
    "colab": {},
    "colab_type": "code",
    "id": "zhwkeWtb1O0w"
   },
   "outputs": [],
   "source": [
    "import numpy as np\n",
    "import matplotlib.pyplot as plt"
   ]
  },
  {
   "cell_type": "code",
   "execution_count": 2,
   "metadata": {
    "colab": {},
    "colab_type": "code",
    "id": "zhwkeWtb1O0w"
   },
   "outputs": [],
   "source": [
    "%matplotlib inline\n",
    "plt.style.use('seaborn-ticks')\n",
    "plt.rcParams.update({'font.size': 14})"
   ]
  },
  {
   "cell_type": "markdown",
   "metadata": {},
   "source": [
    "### Логистическая регрессия"
   ]
  },
  {
   "cell_type": "markdown",
   "metadata": {},
   "source": [
    "Обобщение линейной регрессии на задачу классификации."
   ]
  },
  {
   "cell_type": "markdown",
   "metadata": {},
   "source": [
    "<img src='img/algorithmes-de-classification-regression-logistique-9.jpg' width=400 align='left'> </img>"
   ]
  },
  {
   "cell_type": "markdown",
   "metadata": {},
   "source": [
    "$\\vec{y}=X\\vec{w}$"
   ]
  },
  {
   "cell_type": "markdown",
   "metadata": {
    "colab": {},
    "colab_type": "code",
    "id": "fS4ZSyTrPD6V"
   },
   "source": [
    "Проблемы:  \n",
    "1) Если предсказывать с помощью линейной регрессии, то могут появляться такие числа:   \n",
    "np.dot(X, w) = [-12, 2, 1.5, 0.0005, 1000 ...]  \n",
    "2) MSE, как функция потерь, не подходит."
   ]
  },
  {
   "cell_type": "markdown",
   "metadata": {
    "colab": {},
    "colab_type": "code",
    "id": "IFlAQmfoQCqc"
   },
   "source": [
    "p = [0, 1] - вероятность"
   ]
  },
  {
   "cell_type": "markdown",
   "metadata": {
    "colab": {},
    "colab_type": "code",
    "id": "7pM_ENmXPxMN"
   },
   "source": [
    "$odds = \\frac{p}{1 - p} = \\frac{p_1}{p_0}$ - шансы"
   ]
  },
  {
   "cell_type": "code",
   "execution_count": 15,
   "metadata": {
    "colab": {
     "base_uri": "https://localhost:8080/",
     "height": 34
    },
    "colab_type": "code",
    "id": "OS_TUIgdPl1M",
    "outputId": "8ea131d4-87f4-4f45-8a3d-259a26e1020d"
   },
   "outputs": [
    {
     "data": {
      "text/plain": [
       "0.11111111111111112"
      ]
     },
     "execution_count": 15,
     "metadata": {},
     "output_type": "execute_result"
    }
   ],
   "source": [
    "p = 0.1\n",
    "p / (1 - p)"
   ]
  },
  {
   "cell_type": "code",
   "execution_count": 16,
   "metadata": {
    "colab": {
     "base_uri": "https://localhost:8080/",
     "height": 34
    },
    "colab_type": "code",
    "id": "MvFKM0w7Rndj",
    "outputId": "362ef2f2-86bb-4f81-86f7-0c60935d0705"
   },
   "outputs": [
    {
     "data": {
      "text/plain": [
       "2.1972245773362196"
      ]
     },
     "execution_count": 16,
     "metadata": {},
     "output_type": "execute_result"
    }
   ],
   "source": [
    "p = 0.9\n",
    "np.log(p / (1 - p))"
   ]
  },
  {
   "cell_type": "markdown",
   "metadata": {
    "colab": {},
    "colab_type": "code",
    "id": "5GuJhwb6U-r_"
   },
   "source": [
    "$$X\\vec{w} = \\ln\\Big(\\frac{\\vec{p}}{1 - \\vec{p}}\\Big)$$\n",
    "$$\\exp(X\\vec{w}) = \\frac{\\vec{p}}{1 - \\vec{p}}$$\n",
    "$$(1-\\vec{p})\\exp(X\\vec{w}) = \\vec{p}$$\n",
    "$$\\exp(X\\vec{w})-\\vec{p}\\exp(X\\vec{w}) = \\vec{p}$$\n",
    "$$\\exp(X\\vec{w})=\\vec{p}(1+\\exp(X\\vec{w}))$$\n",
    "$$\\vec{p}=\\frac{\\exp{(X\\vec{w})}}{1+\\exp{(X\\vec{w})}}$$\n",
    "$$\\vec{p}=\\frac{1}{1+\\exp{(-X\\vec{w})}}=\\text{sigmoid}(X\\vec {w})$$"
   ]
  },
  {
   "cell_type": "code",
   "execution_count": 5,
   "metadata": {},
   "outputs": [],
   "source": [
    "def sigmoid(z):\n",
    "    return 1 / (1 + np.exp(-z))"
   ]
  },
  {
   "cell_type": "code",
   "execution_count": 6,
   "metadata": {},
   "outputs": [
    {
     "data": {
      "image/png": "[encoded data removed]",
      "text/plain": [
       "<Figure size 432x288 with 1 Axes>"
      ]
     },
     "metadata": {},
     "output_type": "display_data"
    }
   ],
   "source": [
    "# сигмоида\n",
    "z = np.linspace(-10, 10, 101)\n",
    "probabilities = sigmoid(z)\n",
    "plt.plot(z, probabilities)\n",
    "plt.xlabel('$z=Xw$')\n",
    "plt.ylabel('p')\n",
    "plt.grid();"
   ]
  },
  {
   "cell_type": "markdown",
   "metadata": {},
   "source": [
    "### Логистическая функция потерь "
   ]
  },
  {
   "cell_type": "markdown",
   "metadata": {},
   "source": [
    "Согласно распределению Бернулли, вероятность встретить объект с классом $y_i$ равна $p_i^{y_i}(1-p_i)^{1-y_i}$\n",
    "\n"
   ]
  },
  {
   "cell_type": "markdown",
   "metadata": {},
   "source": [
    "$\\text{Likelihood (правдоподобие):}$ \n",
    "$$L(X)=\\prod_{i=1}^{n}{p_i^{y_i}(1-p_i)^{1-y_i}}\\rightarrow max$$\n",
    "$$\\ln L(X)=\\sum_{i=1}^{n}\\big ({\\ln{p_i}^{y_i}+\\ln(1-p_i)^{1-y_i}}\\big)$$\n",
    "$$\\ln L(X)=\\sum_{i=1}^{n}\\big({-y_i\\ln{p_i}-(1-y_i)\\ln(1-p_i)\\big)}$$\n",
    "$$LogLoss=\\frac{1}{n}\\sum_{i=1}^{n}\\big({-y_i\\ln{p_i}-(1-y_i)\\ln(1-p_i)\\big)}\\rightarrow min$$"
   ]
  },
  {
   "cell_type": "markdown",
   "metadata": {},
   "source": [
    "$y=0/1$ - истинный класс   \n",
    "$p=[0,1]$ - ответ алгоритма\n"
   ]
  },
  {
   "cell_type": "code",
   "execution_count": 7,
   "metadata": {
    "colab": {},
    "colab_type": "code",
    "id": "qMR5pOA38dDw"
   },
   "outputs": [],
   "source": [
    "def calc_logloss(y, p):\n",
    "    err = np.mean(- y * np.log(p) - (1.0 - y) * np.log(1.0 - p))\n",
    "    return err"
   ]
  },
  {
   "cell_type": "code",
   "execution_count": 8,
   "metadata": {
    "colab": {
     "base_uri": "https://localhost:8080/",
     "height": 34
    },
    "colab_type": "code",
    "id": "R6zfOHMrBvnX",
    "outputId": "c26e639b-b7a5-414c-a920-928da0513938"
   },
   "outputs": [
    {
     "data": {
      "text/plain": [
       "2.302585092994046"
      ]
     },
     "execution_count": 8,
     "metadata": {},
     "output_type": "execute_result"
    }
   ],
   "source": [
    "# Пример применения\n",
    "y = 0\n",
    "p = 0.9\n",
    "calc_logloss(y, p)"
   ]
  },
  {
   "cell_type": "markdown",
   "metadata": {},
   "source": [
    "$${LogLoss}=\\frac{1}{n}\\big(-\\vec{y}\\ln{\\vec{p}}-(1-\\vec{y})\\ln(1-\\vec{p})\\big)$$\n",
    "$$\\vec{p}=\\text{sigmoid}(X{\\vec{w}})=\\frac{1}{1+\\text{exp}(-X{\\vec{w}})}$$\n",
    "$$\\frac{\\mathrm d}{\\mathrm d\\vec{w}}{LogLoss}=\\frac{1}{n}(\\vec{p}-\\vec{y})X$$\n",
    "$$\\vec{w}=\\vec{w}-\\eta \\frac{1}{n}(\\vec{p}-\\vec{y})X$$"
   ]
  },
  {
   "cell_type": "markdown",
   "metadata": {
    "colab": {},
    "colab_type": "code",
    "id": "e6TH-mkPItb6"
   },
   "source": [
    "### Пример"
   ]
  },
  {
   "cell_type": "code",
   "execution_count": 17,
   "metadata": {},
   "outputs": [
    {
     "data": {
      "text/plain": [
       "array([[1.00e+00, 1.00e+00, 5.00e+02, 2.10e+01],\n",
       "       [1.00e+00, 1.00e+00, 7.00e+02, 2.50e+01],\n",
       "       [1.00e+00, 2.00e+00, 7.50e+02, 2.70e+01],\n",
       "       [1.00e+00, 1.00e+00, 6.00e+02, 2.00e+01],\n",
       "       [1.00e+00, 3.00e+00, 1.45e+03, 2.50e+01],\n",
       "       [1.00e+00, 0.00e+00, 8.00e+02, 1.80e+01],\n",
       "       [1.00e+00, 5.00e+00, 1.50e+03, 3.50e+01],\n",
       "       [1.00e+00, 1.00e+01, 2.00e+03, 6.00e+01],\n",
       "       [1.00e+00, 1.00e+00, 4.50e+02, 2.00e+01],\n",
       "       [1.00e+00, 2.00e+00, 1.00e+03, 3.00e+01]])"
      ]
     },
     "execution_count": 17,
     "metadata": {},
     "output_type": "execute_result"
    }
   ],
   "source": [
    "X = np.array([[1, 1, 1, 1, 1, 1, 1, 1, 1, 1],\n",
    "              [1, 1, 2, 1, 3, 0, 5, 10, 1, 2],  # стаж репетитора\n",
    "              [500, 700, 750, 600, 1450,        # средняя стоимость занятия\n",
    "               800, 1500, 2000, 450, 1000],\n",
    "              [21, 25, 27, 20, 25, 18, 35, 60, 20, 30]],  # возраст репетитора\n",
    "              #[1, 1, 2, 1, 2, 1, 3, 3, 1, 2]],  # квалификация репетитора\n",
    "              dtype = np.float64).T \n",
    "\n",
    "y = np.array([0, 0, 1, 0, 1, 0, 1, 0, 1, 1]) # поступил или нет ученик на специальность Математика\n",
    "X"
   ]
  },
  {
   "cell_type": "code",
   "execution_count": 21,
   "metadata": {},
   "outputs": [
    {
     "data": {
      "text/plain": [
       "array([[ 1.        , -0.57142857, -0.97958969, -0.60595294],\n",
       "       [ 1.        , -0.57142857, -0.56713087, -0.264571  ],\n",
       "       [ 1.        , -0.21428571, -0.46401617, -0.09388003],\n",
       "       [ 1.        , -0.57142857, -0.77336028, -0.69129842],\n",
       "       [ 1.        ,  0.14285714,  0.97958969, -0.264571  ],\n",
       "       [ 1.        , -0.92857143, -0.36090146, -0.86198939],\n",
       "       [ 1.        ,  0.85714286,  1.08270439,  0.58888384],\n",
       "       [ 1.        ,  2.64285714,  2.11385144,  2.72252095],\n",
       "       [ 1.        , -0.57142857, -1.08270439, -0.69129842],\n",
       "       [ 1.        , -0.21428571,  0.05155735,  0.16215642]])"
      ]
     },
     "execution_count": 21,
     "metadata": {},
     "output_type": "execute_result"
    }
   ],
   "source": [
    "def standardization(X):\n",
    "    S = (X - X.mean(axis=0)) / X.std(axis=0)\n",
    "    return S\n",
    "\n",
    "X_st = X.copy()\n",
    "X_st[:, 1:] = standardization(X[:, 1:])\n",
    "X_st"
   ]
  },
  {
   "cell_type": "code",
   "execution_count": 22,
   "metadata": {
    "colab": {},
    "colab_type": "code",
    "id": "qtgUN3LW-UIq"
   },
   "outputs": [],
   "source": [
    "# логистическая регрессия\n",
    "def eval_LR_model(X, y, iterations, eta=1e-4):\n",
    "    np.random.seed(42)\n",
    "    w = np.random.randn(X.shape[1])\n",
    "    n = X.shape[0]\n",
    "    for i in range(1, iterations + 1):\n",
    "        z = np.dot(X, w) # log(p/(1-p))\n",
    "        pred = sigmoid(z) # p [0, 1]\n",
    "        err = calc_logloss(y, pred)\n",
    "        w -= eta * (1/n * np.dot((pred - y), X))\n",
    "        if i % (iterations / 10) == 0:\n",
    "            print(i, w, err)\n",
    "    return w"
   ]
  },
  {
   "cell_type": "code",
   "execution_count": 23,
   "metadata": {
    "colab": {
     "base_uri": "https://localhost:8080/",
     "height": 190
    },
    "colab_type": "code",
    "id": "oqX7loklBmYZ",
    "outputId": "f4849295-1f14-40d8-c8f2-d1b002e130c5"
   },
   "outputs": [
    {
     "name": "stdout",
     "output_type": "stream",
     "text": [
      "100 [ 0.05629934 -0.84372003  0.43611847  0.47360589] 0.6877840044465432\n",
      "200 [ 0.00499774 -0.8453853   0.74612057  0.17090568] 0.6682788409471516\n",
      "300 [ 0.00270883 -0.81886336  0.95232817 -0.0557607 ] 0.6586782868575319\n",
      "400 [ 0.00538059 -0.77590695  1.09020954 -0.23265425] 0.6534008098677606\n",
      "500 [ 0.00865892 -0.72309801  1.18272188 -0.37550824] 0.6501950385826415\n",
      "600 [ 0.01179106 -0.66460917  1.24448004 -0.49433315] 0.6480440536045995\n",
      "700 [ 0.01457164 -0.60314253  1.28504448 -0.59568194] 0.6464660936516653\n",
      "800 [ 0.01696286 -0.5404805   1.31083138 -0.68396982] 0.6452226150904479\n",
      "900 [ 0.01899222 -0.47781241  1.32623926 -0.76224873] 0.6441904171474095\n",
      "1000 [ 0.02070952 -0.41593448  1.33433426 -0.83267506] 0.6433030477708257\n"
     ]
    }
   ],
   "source": [
    "w = eval_LR_model(X_st, y, 1000, 1e-1)"
   ]
  },
  {
   "cell_type": "code",
   "execution_count": 24,
   "metadata": {},
   "outputs": [
    {
     "name": "stdout",
     "output_type": "stream",
     "text": [
      "prob = [0.37 0.43 0.39 0.45 0.82 0.66 0.65 0.37 0.35 0.51]\n",
      "true = [0 0 1 0 1 0 1 0 1 1]\n",
      "pred = [0 0 0 0 1 1 1 0 0 1]\n"
     ]
    }
   ],
   "source": [
    "pred = sigmoid(np.dot(X_st, w))\n",
    "print('prob =', pred.round(2))\n",
    "print('true =', y)\n",
    "print('pred =', np.where(pred > 0.5, 1, 0))"
   ]
  },
  {
   "cell_type": "code",
   "execution_count": 25,
   "metadata": {},
   "outputs": [
    {
     "name": "stderr",
     "output_type": "stream",
     "text": [
      "C:\\Users\\User\\Anaconda3\\envs\\py37_64\\lib\\site-packages\\ipykernel_launcher.py:2: RuntimeWarning: divide by zero encountered in log\n",
      "  \n"
     ]
    },
    {
     "data": {
      "text/plain": [
       "inf"
      ]
     },
     "execution_count": 25,
     "metadata": {},
     "output_type": "execute_result"
    }
   ],
   "source": [
    "calc_logloss(y=0, p=1)"
   ]
  },
  {
   "cell_type": "markdown",
   "metadata": {
    "colab": {},
    "colab_type": "code",
    "id": "Mbwxo9NqbLJy"
   },
   "source": [
    "### Домашние задания"
   ]
  },
  {
   "cell_type": "markdown",
   "metadata": {},
   "source": [
    "1. Измените функцию `calc_logloss` так, чтобы нули по возможности не попадали в `np.log` (как вариант - использовать `np.clip` или `np.where`).  \n",
    "2. На данных из урока изучите влияние гиперпараметров на ошибку алгоритма. Подберите аргументы функции `eval_LR_model` для логистической регрессии таким образом, чтобы log loss не превышал значение `0.5` `(0.3).` Как изменились веса?\n",
    "3. Создайте функцию `calc_pred_proba`, возвращающую предсказанную вероятность класса \"1\". На вход функции подаются значения признаков Х и веса, которые уже посчитаны функцией `eval_LR_model`.\n",
    "4. Создайте функцию `calc_pred`, возвращающую предсказанные классы (0 или 1). На вход функции подаются значения признаков Х и веса, которые уже посчитаны функцией `eval_LR_model`, а также порог вероятности.\n",
    "5. (\\*) Напишите функции для расчета accuracy, матрицы ошибок, precision и recall, а также F1-score."
   ]
  },
  {
   "cell_type": "code",
   "execution_count": null,
   "metadata": {},
   "outputs": [],
   "source": []
  }
 ],
 "metadata": {
  "colab": {
   "collapsed_sections": [],
   "name": "Lesson3_.ipynb",
   "provenance": []
  },
  "kernelspec": {
   "display_name": "Python 3 (ipykernel)",
   "language": "python",
   "name": "python3"
  },
  "language_info": {
   "codemirror_mode": {
    "name": "ipython",
    "version": 3
   },
   "file_extension": ".py",
   "mimetype": "text/x-python",
   "name": "python",
   "nbconvert_exporter": "python",
   "pygments_lexer": "ipython3",
   "version": "3.9.2"
  },
  "toc": {
   "base_numbering": 1,
   "nav_menu": {},
   "number_sections": false,
   "sideBar": true,
   "skip_h1_title": true,
   "title_cell": "План урока",
   "title_sidebar": "План",
   "toc_cell": true,
   "toc_position": {
    "height": "calc(100% - 180px)",
    "left": "10px",
    "top": "150px",
    "width": "165px"
   },
   "toc_section_display": true,
   "toc_window_display": false
  }
 },
 "nbformat": 4,
 "nbformat_minor": 1
}
