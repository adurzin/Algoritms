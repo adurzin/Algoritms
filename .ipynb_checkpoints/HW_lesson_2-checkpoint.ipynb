{
 "cells": [
  {
   "cell_type": "markdown",
   "id": "43224f14",
   "metadata": {},
   "source": [
    "# Домашнее задание №2."
   ]
  },
  {
   "cell_type": "markdown",
   "id": "2f28cb82",
   "metadata": {},
   "source": [
    "#### 1. *Сгенерировать датасет при помощи sklearn.datasets.make_regression и обучить линейную модель при помощи градиентного спуска и стохастического градиентного спуска. Построить графики среднеквадратичной ошибки от числа итераций для обоих методов на одном рисунке, сделать выводы о разнице скорости сходимости каждого из методов.*"
   ]
  },
  {
   "cell_type": "code",
   "execution_count": 67,
   "id": "d9b128e3",
   "metadata": {},
   "outputs": [],
   "source": [
    "import numpy as np\n",
    "from sklearn import datasets\n",
    "from matplotlib import pyplot as plt\n",
    "\n",
    "%matplotlib inline"
   ]
  },
  {
   "cell_type": "code",
   "execution_count": 68,
   "id": "281fc3a2",
   "metadata": {},
   "outputs": [],
   "source": [
    "X_, y_, coef = datasets.make_regression(n_samples=10000,\n",
    "                                       n_features=3,\n",
    "                                       n_informative=3,\n",
    "                                       n_targets=1,\n",
    "                                       noise=2,\n",
    "                                       coef=True,\n",
    "                                       random_state=15)"
   ]
  },
  {
   "cell_type": "code",
   "execution_count": 69,
   "id": "1dcb9065",
   "metadata": {},
   "outputs": [
    {
     "data": {
      "text/plain": [
       "array([56.78437196, 23.7256946 , 44.40999046])"
      ]
     },
     "execution_count": 69,
     "metadata": {},
     "output_type": "execute_result"
    }
   ],
   "source": [
    "coef"
   ]
  },
  {
   "cell_type": "markdown",
   "id": "0b406d2d",
   "metadata": {},
   "source": [
    "*Стандартизация выборки X_:*"
   ]
  },
  {
   "cell_type": "code",
   "execution_count": 70,
   "id": "7f13acb1",
   "metadata": {},
   "outputs": [],
   "source": [
    "def standartization(x):\n",
    "    st = (x - x.mean()) / np.std(x)\n",
    "    return x"
   ]
  },
  {
   "cell_type": "code",
   "execution_count": 71,
   "id": "cf31fce3",
   "metadata": {},
   "outputs": [],
   "source": [
    "X_stand = standartization(X_)"
   ]
  },
  {
   "cell_type": "markdown",
   "id": "57dbaab4",
   "metadata": {},
   "source": [
    "*Метод градиентного спуска:*"
   ]
  },
  {
   "cell_type": "code",
   "execution_count": 316,
   "id": "cf68ef5d",
   "metadata": {},
   "outputs": [],
   "source": [
    "def calc_mse(y, y_pred):\n",
    "    err = np.mean((y - y_pred) ** 2)\n",
    "    return err"
   ]
  },
  {
   "cell_type": "code",
   "execution_count": 317,
   "id": "69ef2c26",
   "metadata": {},
   "outputs": [],
   "source": [
    "def grad(X, y, iterations, eta=0.01, verbose=False):\n",
    "    np.random.seed(15)\n",
    "    w = np.random.randn(X.shape[1])\n",
    "    n = X.shape[0]\n",
    "    for i in range(1, iterations + 1):\n",
    "        y_pred = np.dot(X, w)\n",
    "        err = calc_mse(y, y_pred)\n",
    "        w -= eta * (1 / n * 2 * np.dot(X.T, (y_pred - y)))\n",
    "        if verbose and i % (iterations / 10) == 0:\n",
    "            print(f'{i}: weights{w}, MSE={err:.3f}')\n",
    "    return w"
   ]
  },
  {
   "cell_type": "markdown",
   "id": "a4e8ea24",
   "metadata": {},
   "source": [
    "*Метод стохастического градиентного спуска:*"
   ]
  },
  {
   "cell_type": "code",
   "execution_count": 254,
   "id": "707d7594",
   "metadata": {},
   "outputs": [],
   "source": [
    "def grad_sth(X, y, iterations, eta=0.01, verbose=False):\n",
    "    np.random.seed(15)\n",
    "    w = np.random.randn(X.shape[1])\n",
    "    n = X.shape[0]\n",
    "    for i in range(1, iterations + 1):\n",
    "        err = calc_mse(y, np.dot(X, w))\n",
    "        ind = np.random.randint(n)\n",
    "        y_pred = np.dot(X[ind], w)\n",
    "        w -= eta * (2 * np.dot(X[ind].T, (y_pred - y[ind])))\n",
    "        if verbose and i % (iterations / 10) == 0:\n",
    "            print(f'{i}: weights={w}, MSE={err:.3f}')\n",
    "    return w"
   ]
  },
  {
   "cell_type": "markdown",
   "id": "b5e09d77",
   "metadata": {},
   "source": [
    "*Метод градиентного спуска mini-batch:*"
   ]
  },
  {
   "cell_type": "code",
   "execution_count": 256,
   "id": "269a7ef7",
   "metadata": {},
   "outputs": [],
   "source": [
    "def grad_mb(X, y, iterations, batch=10, eta=0.01):\n",
    "    np.random.seed(15)\n",
    "    w = np.random.randn(X.shape[1])\n",
    "    n = X.shape[0] #число наблюдений\n",
    "    n_batch = n // batch # число батчей\n",
    "    if n % batch != 0:\n",
    "        n_batch += 1\n",
    "    print('Количество батчей -', n_batch)\n",
    "    for i in range(1, iterations + 1):\n",
    "        err = calc_mse(y, np.dot(X, w))\n",
    "        for b in range(n_batch):\n",
    "            start_ = batch * b\n",
    "            end_ = batch * (b + 1)\n",
    "            X_batch = X[start_ : end_, :]\n",
    "            y_batch = y[start_: end_]\n",
    "            y_pred = np.dot(X_batch, w)\n",
    "            \n",
    "            w -= eta * (1 / y_pred.shape[0] * 2 * np.dot(X_batch.T, (y_pred - y_batch)))\n",
    "        print(f'{i}: weights={w}, MSE={err:.3f}')\n",
    "    return err, w "
   ]
  },
  {
   "cell_type": "markdown",
   "id": "fcf90746",
   "metadata": {},
   "source": [
    "*Визуализация сравнения среднеквадратичных ошибок разных методов в зависимости от итераций:*"
   ]
  },
  {
   "cell_type": "code",
   "execution_count": 259,
   "id": "4afbab52",
   "metadata": {},
   "outputs": [],
   "source": [
    "iteration_list = []\n",
    "w_list_1, w_list_2 = [], []\n",
    "error_list_1, error_list_2 = [], []\n",
    "\n",
    "for iterations in range(10, 301, 20):\n",
    "    iteration_list.append(iterations)\n",
    "    w_new_1 = grad(X_stand, y_, iterations)\n",
    "    w_new_2 = grad_sth(X_stand, y_, iterations)\n",
    "    w_list_1.append(w_new_1)\n",
    "    w_list_1.append(w_new_2)\n",
    "    error_list_1.append(calc_mse(y_, np.dot(X_stand, w_new_1)))\n",
    "    error_list_2.append(calc_mse(y_, np.dot(X_stand, w_new_2)))\n",
    "\n",
    "errors_1 = np.array(error_list_1)\n",
    "errors_2 = np.array(error_list_2)"
   ]
  },
  {
   "cell_type": "code",
   "execution_count": 260,
   "id": "6deb3155",
   "metadata": {
    "scrolled": false
   },
   "outputs": [
    {
     "data": {
      "image/png": "[encoded data removed]",
      "text/plain": [
       "<Figure size 720x360 with 1 Axes>"
      ]
     },
     "metadata": {
      "needs_background": "light"
     },
     "output_type": "display_data"
    }
   ],
   "source": [
    "plt.figure(figsize=(10, 5))\n",
    "plt.xscale('log')\n",
    "plt.plot(iteration_list, errors_1, 'o-', label='grad', color='green')\n",
    "plt.plot(iteration_list, errors_2, 'o-', label='grad_sth', color='red')\n",
    "plt.xlabel('Количество итераций')\n",
    "plt.ylabel('MSE')\n",
    "plt.legend()\n",
    "plt.grid();"
   ]
  },
  {
   "cell_type": "markdown",
   "id": "8f94b5be",
   "metadata": {},
   "source": [
    "*Исходя из графика выше можно сделать вывод о более быстрой сходимости градиентного спуска в отличие от стохастического градиентного спуска.*"
   ]
  },
  {
   "cell_type": "code",
   "execution_count": 291,
   "id": "809c652b",
   "metadata": {},
   "outputs": [
    {
     "name": "stdout",
     "output_type": "stream",
     "text": [
      "45: weights[33.63767581 14.25251272 26.78943534], MSE=980.985\n",
      "90: weights[47.40708634 19.88371509 37.43769573], MSE=161.902\n",
      "135: weights[52.9906303  22.16261629 41.64711844], MSE=29.539\n",
      "180: weights[55.25437392 23.08476964 43.31174208], MSE=8.137\n",
      "225: weights[56.17201043 23.45787899 43.97024822], MSE=4.675\n",
      "270: weights[56.5439253  23.60882667 44.23083617], MSE=4.115\n",
      "315: weights[56.69463768 23.66988935 44.33399348], MSE=4.024\n",
      "360: weights[56.75570231 23.69458875 44.37484395], MSE=4.009\n",
      "405: weights[56.78044055 23.70457861 44.39102646], MSE=4.007\n",
      "450: weights[56.79046103 23.70861875 44.39743923], MSE=4.006\n",
      "Wall time: 146 ms\n"
     ]
    },
    {
     "data": {
      "text/plain": [
       "array([56.79046103, 23.70861875, 44.39743923])"
      ]
     },
     "execution_count": 291,
     "metadata": {},
     "output_type": "execute_result"
    }
   ],
   "source": [
    "%%time\n",
    "grad(X_stand, y_, 450, verbose=True)"
   ]
  },
  {
   "cell_type": "code",
   "execution_count": 296,
   "id": "16c22b06",
   "metadata": {},
   "outputs": [
    {
     "name": "stdout",
     "output_type": "stream",
     "text": [
      "45: weights=[31.26922902 14.40352988 14.52069675], MSE=1666.613\n",
      "90: weights=[42.5715785  22.27520154 29.57519839], MSE=446.686\n",
      "135: weights=[51.53155038 24.14080237 39.46881121], MSE=57.621\n",
      "180: weights=[55.32992637 24.2044369  42.13405924], MSE=11.750\n",
      "225: weights=[56.25750952 23.39187868 43.834729  ], MSE=4.817\n",
      "270: weights=[56.40187031 23.51005905 44.00880893], MSE=4.359\n",
      "315: weights=[56.51796215 23.15820659 44.01385817], MSE=4.548\n",
      "360: weights=[56.30479895 23.72552695 44.54763591], MSE=4.292\n",
      "405: weights=[56.68310928 24.03291523 44.22368797], MSE=4.136\n",
      "450: weights=[56.74290181 23.79579945 44.41340178], MSE=4.017\n",
      "Wall time: 103 ms\n"
     ]
    },
    {
     "data": {
      "text/plain": [
       "array([56.74290181, 23.79579945, 44.41340178])"
      ]
     },
     "execution_count": 296,
     "metadata": {},
     "output_type": "execute_result"
    }
   ],
   "source": [
    "%%time\n",
    "grad_sth(X_stand, y_, 450, verbose=True)"
   ]
  },
  {
   "cell_type": "code",
   "execution_count": 271,
   "id": "d117de12",
   "metadata": {
    "scrolled": true
   },
   "outputs": [
    {
     "name": "stdout",
     "output_type": "stream",
     "text": [
      "Количество батчей - 100\n",
      "1: weights=[49.11704223 20.58798682 38.74463034], MSE=5812.371\n",
      "2: weights=[55.76315182 23.30041433 43.68365739], MSE=104.946\n",
      "3: weights=[56.65598111 23.66355292 44.31180843], MSE=5.762\n",
      "4: weights=[56.77582738 23.71214472 44.39183418], MSE=4.037\n",
      "5: weights=[56.79190302 23.71864378 44.40204691], MSE=4.007\n",
      "6: weights=[56.79405793 23.71951265 44.40335249], MSE=4.006\n",
      "Wall time: 15.2 ms\n"
     ]
    },
    {
     "data": {
      "text/plain": [
       "(4.006431458807156, array([56.79405793, 23.71951265, 44.40335249]))"
      ]
     },
     "execution_count": 271,
     "metadata": {},
     "output_type": "execute_result"
    }
   ],
   "source": [
    "%%time\n",
    "grad_mb(X_stand, y_, 6, batch=100)"
   ]
  },
  {
   "cell_type": "markdown",
   "id": "ac9d2e15",
   "metadata": {},
   "source": [
    "*Метод градиентного спуска mini-batch нельзя сравнить с предыдущими градиентными спусками по итерациям. Но если исходить из скорости работы и точности, то метод mini-batch намного быстрее предыдущих при той же точности (скорость работы в разы выше 15ms в отношении 105ms и 146ms соответственно).*"
   ]
  },
  {
   "cell_type": "markdown",
   "id": "a1a11278",
   "metadata": {},
   "source": [
    "#### 2.* *Добавить в алгоритм градиентного спуска L1 регуляризацию. Сравнить влияние коэффициентов регуляризации L1 и L2 на величину весов для примера из урока (лучше графически).*"
   ]
  },
  {
   "cell_type": "markdown",
   "id": "4882250a",
   "metadata": {},
   "source": [
    "*Начальные данные:*"
   ]
  },
  {
   "cell_type": "code",
   "execution_count": 312,
   "id": "420f5c18",
   "metadata": {},
   "outputs": [],
   "source": [
    "X = np.array([[1, 1, 1, 1, 1, 1, 1, 1, 1, 1],\n",
    "              [1, 1, 2, 1, 3, 0, 5, 10, 1, 2],  # стаж репетитора\n",
    "              [500, 700, 750, 600, 1450,        # средняя стоимость занятия\n",
    "               800, 1500, 2000, 450, 1000],\n",
    "              [21, 25, 27, 20, 25, 18, 35, 60, 20, 30]]).T  # возраст репетитора\n",
    "               \n",
    "y = [45, 55, 50, 59, 65, 35, 75, 80, 50, 60]    # средний балл ЕГЭ (целевая переменная)"
   ]
  },
  {
   "cell_type": "markdown",
   "id": "28382384",
   "metadata": {},
   "source": [
    "*Стандартизация*"
   ]
  },
  {
   "cell_type": "code",
   "execution_count": 318,
   "id": "b12178f3",
   "metadata": {},
   "outputs": [],
   "source": [
    "X_stand = standartization(X)"
   ]
  },
  {
   "cell_type": "markdown",
   "id": "33793b33",
   "metadata": {},
   "source": [
    "*Градиентный спуск*"
   ]
  },
  {
   "cell_type": "code",
   "execution_count": null,
   "id": "958db8a8",
   "metadata": {},
   "outputs": [],
   "source": []
  },
  {
   "cell_type": "markdown",
   "id": "4f394b78",
   "metadata": {},
   "source": [
    "*L1-регуляризация:*"
   ]
  },
  {
   "cell_type": "code",
   "execution_count": null,
   "id": "9e626d3a",
   "metadata": {},
   "outputs": [],
   "source": []
  },
  {
   "cell_type": "markdown",
   "id": "6f884fd6",
   "metadata": {},
   "source": [
    "*L2-регуляризация:*"
   ]
  },
  {
   "cell_type": "code",
   "execution_count": null,
   "id": "11efff01",
   "metadata": {},
   "outputs": [],
   "source": []
  },
  {
   "cell_type": "markdown",
   "id": "d1b9e1db",
   "metadata": {},
   "source": [
    "*Визуальное сравнение коэффициентов регуляризации:*"
   ]
  },
  {
   "cell_type": "code",
   "execution_count": null,
   "id": "54f68be7",
   "metadata": {},
   "outputs": [],
   "source": [
    "w_list = []\n",
    "l_list = []\n",
    "error_list =[]\n",
    "\n",
    "for l in np.logspace(start=-4, stop=1, num=20):\n",
    "    l_list.append(l)\n",
    "    w_new = eval_model_reg2(?)(X_st, "
   ]
  }
 ],
 "metadata": {
  "kernelspec": {
   "display_name": "Python 3 (ipykernel)",
   "language": "python",
   "name": "python3"
  },
  "language_info": {
   "codemirror_mode": {
    "name": "ipython",
    "version": 3
   },
   "file_extension": ".py",
   "mimetype": "text/x-python",
   "name": "python",
   "nbconvert_exporter": "python",
   "pygments_lexer": "ipython3",
   "version": "3.10.0"
  }
 },
 "nbformat": 4,
 "nbformat_minor": 5
}
