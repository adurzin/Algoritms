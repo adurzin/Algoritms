{
 "cells": [
  {
   "cell_type": "markdown",
   "id": "43224f14",
   "metadata": {},
   "source": [
    "# Домашнее задание №2."
   ]
  },
  {
   "cell_type": "markdown",
   "id": "2f28cb82",
   "metadata": {},
   "source": [
    "#### 1. *Сгенерировать датасет при помощи sklearn.datasets.make_regression и обучить линейную модель при помощи градиентного спуска и стохастического градиентного спуска. Построить графики среднеквадратичной ошибки от числа итераций для обоих методов на одном рисунке, сделать выводы о разнице скорости сходимости каждого из методов.*"
   ]
  },
  {
   "cell_type": "code",
   "execution_count": 2,
   "id": "d9b128e3",
   "metadata": {},
   "outputs": [],
   "source": [
    "import numpy as np\n",
    "from sklearn import datasets\n",
    "from matplotlib import pyplot as plt\n",
    "\n",
    "%matplotlib inline"
   ]
  },
  {
   "cell_type": "code",
   "execution_count": 15,
   "id": "281fc3a2",
   "metadata": {},
   "outputs": [],
   "source": [
    "X_, y_, coef = datasets.make_regression(n_samples=10000,\n",
    "                                       n_features=3,\n",
    "                                       n_informative=3,\n",
    "                                       n_targets=1,\n",
    "                                       noise=2,\n",
    "                                       coef=True,\n",
    "                                       random_state=15)"
   ]
  },
  {
   "cell_type": "code",
   "execution_count": 16,
   "id": "1dcb9065",
   "metadata": {},
   "outputs": [
    {
     "data": {
      "text/plain": [
       "array([56.78437196, 23.7256946 , 44.40999046])"
      ]
     },
     "execution_count": 16,
     "metadata": {},
     "output_type": "execute_result"
    }
   ],
   "source": [
    "coef"
   ]
  },
  {
   "cell_type": "markdown",
   "id": "0b406d2d",
   "metadata": {},
   "source": [
    "Стандартизация выборки X_:"
   ]
  },
  {
   "cell_type": "code",
   "execution_count": null,
   "id": "cf31fce3",
   "metadata": {},
   "outputs": [],
   "source": []
  },
  {
   "cell_type": "markdown",
   "id": "57dbaab4",
   "metadata": {},
   "source": [
    "Метод градиентного спуска:"
   ]
  },
  {
   "cell_type": "code",
   "execution_count": null,
   "id": "69ef2c26",
   "metadata": {},
   "outputs": [],
   "source": []
  },
  {
   "cell_type": "markdown",
   "id": "a4e8ea24",
   "metadata": {},
   "source": [
    "Метод стохастического градиентного спуска:"
   ]
  },
  {
   "cell_type": "code",
   "execution_count": null,
   "id": "707d7594",
   "metadata": {},
   "outputs": [],
   "source": []
  },
  {
   "cell_type": "markdown",
   "id": "b5e09d77",
   "metadata": {},
   "source": [
    "Метод градиентного спуска mini-batch:"
   ]
  },
  {
   "cell_type": "code",
   "execution_count": null,
   "id": "269a7ef7",
   "metadata": {},
   "outputs": [],
   "source": []
  },
  {
   "cell_type": "code",
   "execution_count": null,
   "id": "49bc1afe",
   "metadata": {},
   "outputs": [],
   "source": []
  },
  {
   "cell_type": "markdown",
   "id": "fcf90746",
   "metadata": {},
   "source": [
    "Визуализация сравнения среднеквадратичных ошибок разных методов в зависимости от итераций:"
   ]
  },
  {
   "cell_type": "code",
   "execution_count": null,
   "id": "6deb3155",
   "metadata": {},
   "outputs": [],
   "source": []
  },
  {
   "cell_type": "markdown",
   "id": "a1a11278",
   "metadata": {},
   "source": [
    "#### 2.* *Добавить в алгоритм градиентного спуска L1 регуляризацию. Сравнить влияние коэффициентов регуляризации L1 и L2 на величину весов для примера из урока (лучше графически).*"
   ]
  },
  {
   "cell_type": "markdown",
   "id": "4f394b78",
   "metadata": {},
   "source": [
    "L1-регуляризация:"
   ]
  },
  {
   "cell_type": "code",
   "execution_count": null,
   "id": "49225477",
   "metadata": {},
   "outputs": [],
   "source": []
  },
  {
   "cell_type": "markdown",
   "id": "6f884fd6",
   "metadata": {},
   "source": [
    "L2-регуляризация:"
   ]
  },
  {
   "cell_type": "code",
   "execution_count": null,
   "id": "11efff01",
   "metadata": {},
   "outputs": [],
   "source": []
  },
  {
   "cell_type": "markdown",
   "id": "d1b9e1db",
   "metadata": {},
   "source": [
    "Визуальное сравнение коэффициентов регуляризации:"
   ]
  },
  {
   "cell_type": "code",
   "execution_count": null,
   "id": "54f68be7",
   "metadata": {},
   "outputs": [],
   "source": [
    "w_list = []\n",
    "l_list = []\n",
    "error_list =[]\n",
    "\n",
    "for l in np.logspace(start=-4, stop=1, num=20):\n",
    "    l_list.append(l)\n",
    "    w_new = eval_model_reg2(?)(X_st, "
   ]
  }
 ],
 "metadata": {
  "kernelspec": {
   "display_name": "Python 3 (ipykernel)",
   "language": "python",
   "name": "python3"
  },
  "language_info": {
   "codemirror_mode": {
    "name": "ipython",
    "version": 3
   },
   "file_extension": ".py",
   "mimetype": "text/x-python",
   "name": "python",
   "nbconvert_exporter": "python",
   "pygments_lexer": "ipython3",
   "version": "3.9.2"
  }
 },
 "nbformat": 4,
 "nbformat_minor": 5
}
