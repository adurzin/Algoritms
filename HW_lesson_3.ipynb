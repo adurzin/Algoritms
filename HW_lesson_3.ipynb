{
 "cells": [
  {
   "cell_type": "markdown",
   "id": "9ba3e3cb",
   "metadata": {},
   "source": [
    "# Урок №3"
   ]
  },
  {
   "cell_type": "code",
   "execution_count": 119,
   "id": "d345a496",
   "metadata": {},
   "outputs": [],
   "source": [
    "import numpy as np\n",
    "from matplotlib import pyplot as plt\n",
    "\n",
    "%matplotlib inline"
   ]
  },
  {
   "cell_type": "markdown",
   "id": "5dcb952d",
   "metadata": {},
   "source": [
    "    начальные данные:"
   ]
  },
  {
   "cell_type": "code",
   "execution_count": 120,
   "id": "0b57ead8",
   "metadata": {},
   "outputs": [],
   "source": [
    "X = np.array([[1, 1, 1, 1, 1, 1, 1, 1, 1, 1],\n",
    "              [1, 1, 2, 1, 3, 0, 5, 10, 1, 2],  # стаж репетитора\n",
    "              [500, 700, 750, 600, 1450,        # средняя стоимость занятия\n",
    "               800, 1500, 2000, 450, 1000],\n",
    "              [21, 25, 27, 20, 25, 18, 35, 60, 20, 30],  # возраст репетитора\n",
    "              [1, 1, 2, 1, 2, 1, 3, 3, 1, 2]],  # квалификация репетитора\n",
    "              dtype = np.float64).T \n",
    "\n",
    "y = np.array([0, 0, 1, 0, 1, 0, 1, 0, 1, 1]) # поступил или нет ученик на специальность Математика"
   ]
  },
  {
   "cell_type": "markdown",
   "id": "898e4cce",
   "metadata": {},
   "source": [
    "1. Измените функцию `calc_logloss` так, чтобы нули по возможности не попадали в `np.log` (как вариант - использовать `np.clip` или `np.where`)."
   ]
  },
  {
   "cell_type": "code",
   "execution_count": 121,
   "id": "c8a00c85",
   "metadata": {},
   "outputs": [],
   "source": [
    "def calc_logloss(y, p):\n",
    "    p = np.clip(p, a_max=0.999, a_min=10e-5) # обрезаем значения p с двух сторон\n",
    "    err = np.mean(- y * np.log(p) - (1.0 - y) * np.log(1.0 - p))\n",
    "    return err"
   ]
  },
  {
   "cell_type": "code",
   "execution_count": 122,
   "id": "ce8f1670",
   "metadata": {},
   "outputs": [
    {
     "data": {
      "text/plain": [
       "0.0010005003335835344"
      ]
     },
     "execution_count": 122,
     "metadata": {},
     "output_type": "execute_result"
    }
   ],
   "source": [
    "calc_logloss(1, 1)"
   ]
  },
  {
   "cell_type": "markdown",
   "id": "26944837",
   "metadata": {},
   "source": [
    "2. На данных из урока изучите влияние гиперпараметров на ошибку алгоритма. Подберите аргументы функции `eval_LR_model` для логистической регрессии таким образом, чтобы log loss не превышал значение `0.5` `(0.3).` Как изменились веса?"
   ]
  },
  {
   "cell_type": "code",
   "execution_count": 123,
   "id": "1146022b",
   "metadata": {},
   "outputs": [],
   "source": [
    "def standardization(X):\n",
    "    S = (X - X.mean(axis=0)) / X.std(axis=0)\n",
    "    return S\n",
    "\n",
    "X_st = X.copy()\n",
    "X_st[:, 1:] = standardization(X[:, 1:])"
   ]
  },
  {
   "cell_type": "code",
   "execution_count": 124,
   "id": "fbaef192",
   "metadata": {},
   "outputs": [],
   "source": [
    "def sigmoid(z):\n",
    "    return 1 / (1 + np.exp(-z))"
   ]
  },
  {
   "cell_type": "code",
   "execution_count": 125,
   "id": "c61d7461",
   "metadata": {},
   "outputs": [],
   "source": [
    "def eval_LR_model(X, y, iterations, eta=1e-4):\n",
    "    w_0, w_1, w_2, w_3, w_4, i_ = [], [], [], [], [], []\n",
    "    np.random.seed(10)\n",
    "    w = np.random.randn(X.shape[1])\n",
    "    n = X.shape[0]\n",
    "    for i in range(1, iterations + 1):\n",
    "        z = np.dot(X, w) # log(p/(1-p))\n",
    "        pred = sigmoid(z) # p [0, 1]\n",
    "        err = calc_logloss(y, pred)\n",
    "        w -= eta * (1 / n * np.dot((pred - y), X))\n",
    "        if i % (iterations / 10) == 0:\n",
    "            w_1.append(w[1])\n",
    "            w_2.append(w[2])\n",
    "            w_3.append(w[3])\n",
    "            w_4.append(w[4])\n",
    "            i_.append(i)\n",
    "            print(i, w, err)\n",
    "    return w, w_1, w_2, w_3, w_4, i_"
   ]
  },
  {
   "cell_type": "code",
   "execution_count": 126,
   "id": "79905a0d",
   "metadata": {},
   "outputs": [
    {
     "name": "stdout",
     "output_type": "stream",
     "text": [
      "100 [ 0.37156899 -0.44079674 -1.45255247 -2.61701292  5.1366755 ] 0.24967492676945433\n",
      "200 [ 0.62436226 -0.24605143 -2.30810656 -3.41998536  6.76505098] 0.20757586421501983\n",
      "300 [ 0.81036289  0.01415041 -2.98086131 -4.04541104  7.93886197] 0.18421220636675967\n",
      "400 [ 0.95706662  0.26254725 -3.52770272 -4.58386226  8.89260793] 0.1683316727213787\n",
      "500 [ 1.07794489  0.49172327 -3.99310309 -5.06088945  9.7085992 ] 0.1565352682041476\n",
      "600 [ 1.18069788  0.70331745 -4.40228845 -5.49086776 10.42822447] 0.14729573214976754\n",
      "700 [ 1.2700786   0.90009227 -4.77034639 -5.88360647 11.07599427] 0.13974010505753467\n",
      "800 [ 1.34920194  1.08456626 -5.1069501  -6.24620081 11.66783696] 0.13338697626477097\n",
      "900 [ 1.42021028  1.25880985 -5.41866463 -6.58394187 12.21475735] 0.1279280088187035\n",
      "1000 [ 1.48463624  1.42448079 -5.71014811 -6.90086703 12.7247026 ] 0.1231555761597561\n"
     ]
    }
   ],
   "source": [
    "w, w_1, w_2, w_3, w_4, i_ = eval_LR_model(X_st, y, iterations=1000, eta=1)"
   ]
  },
  {
   "cell_type": "code",
   "execution_count": 127,
   "id": "7882a093",
   "metadata": {},
   "outputs": [
    {
     "data": {
      "image/png": "[encoded data removed]",
      "text/plain": [
       "<Figure size 720x432 with 1 Axes>"
      ]
     },
     "metadata": {
      "needs_background": "light"
     },
     "output_type": "display_data"
    }
   ],
   "source": [
    "plt.figure(figsize=(10,6))\n",
    "plt.plot(i_, w_1, 'o-', label='w_1')\n",
    "plt.plot(i_, w_2, 'o-', label='w_2')\n",
    "plt.plot(i_, w_3, 'o-', label='w_3')\n",
    "plt.plot(i_, w_4, 'o-', label='w_4')\n",
    "plt.xlabel('Количество итераций')\n",
    "plt.ylabel('Вес признака')\n",
    "plt.legend()\n",
    "plt.grid;"
   ]
  },
  {
   "cell_type": "markdown",
   "id": "1d145efe",
   "metadata": {},
   "source": [
    "Вывод: При уменьшении ошибки увеличиваются значения весов."
   ]
  },
  {
   "cell_type": "markdown",
   "id": "9f3974d9",
   "metadata": {},
   "source": [
    "3. Создайте функцию `calc_pred_proba`, возвращающую предсказанную вероятность класса \"1\". На вход функции подаются значения признаков Х и веса, которые уже посчитаны функцией `eval_LR_model`.\n"
   ]
  },
  {
   "cell_type": "code",
   "execution_count": 128,
   "id": "255083c5",
   "metadata": {},
   "outputs": [],
   "source": [
    "def calc_pred_proba(X, w):\n",
    "    return sigmoid(np.dot(X, w)).round(2)"
   ]
  },
  {
   "cell_type": "code",
   "execution_count": 129,
   "id": "601e5d0f",
   "metadata": {},
   "outputs": [
    {
     "data": {
      "text/plain": [
       "array([0.28, 0.  , 1.  , 0.18, 0.94, 0.04, 1.  , 0.01, 0.55, 0.99])"
      ]
     },
     "execution_count": 129,
     "metadata": {},
     "output_type": "execute_result"
    }
   ],
   "source": [
    "calc_pred_proba(X_st, w)"
   ]
  },
  {
   "cell_type": "markdown",
   "id": "994cc328",
   "metadata": {},
   "source": [
    "4. Создайте функцию `calc_pred`, возвращающую предсказанные классы (0 или 1). На вход функции подаются значения признаков Х и веса, которые уже посчитаны функцией `eval_LR_model`, а также порог вероятности."
   ]
  },
  {
   "cell_type": "code",
   "execution_count": 130,
   "id": "a119d801",
   "metadata": {},
   "outputs": [],
   "source": [
    "def calc_pred(X, w, p=0.5):\n",
    "    return np.where(calc_pred_proba(X, w) < p, 0, 1)"
   ]
  },
  {
   "cell_type": "code",
   "execution_count": 131,
   "id": "a7baaa7c",
   "metadata": {},
   "outputs": [
    {
     "data": {
      "text/plain": [
       "array([0, 0, 1, 0, 0, 0, 1, 0, 0, 1])"
      ]
     },
     "execution_count": 131,
     "metadata": {},
     "output_type": "execute_result"
    }
   ],
   "source": [
    "calc_pred(X_st, w, 0.99)"
   ]
  },
  {
   "cell_type": "code",
   "execution_count": 132,
   "id": "0bea7bb0",
   "metadata": {},
   "outputs": [
    {
     "data": {
      "text/plain": [
       "array([ True,  True,  True,  True, False,  True,  True,  True, False,\n",
       "        True])"
      ]
     },
     "execution_count": 132,
     "metadata": {},
     "output_type": "execute_result"
    }
   ],
   "source": [
    "calc_pred(X_st, w, 0.99) == y"
   ]
  },
  {
   "cell_type": "markdown",
   "id": "f91a7fb6",
   "metadata": {},
   "source": [
    "5. (\\*) Напишите функции для расчета accuracy, матрицы ошибок, precision и recall, а также F1-score."
   ]
  },
  {
   "cell_type": "code",
   "execution_count": 133,
   "id": "1ddf1b44",
   "metadata": {},
   "outputs": [],
   "source": [
    "X = np.array([0, 0, 1, 1, 1, 0, 1, 1, 0, 1]) # произвольные данные с ошибками"
   ]
  },
  {
   "cell_type": "code",
   "execution_count": 134,
   "id": "2e0a7411",
   "metadata": {},
   "outputs": [
    {
     "name": "stdout",
     "output_type": "stream",
     "text": [
      " y = [0 0 1 0 1 0 1 0 1 1]\n",
      " X = [0 0 1 1 1 0 1 1 0 1]\n"
     ]
    }
   ],
   "source": [
    "print(f' y = {y}\\n X = {X}')\n"
   ]
  },
  {
   "cell_type": "code",
   "execution_count": 135,
   "id": "09ded9e4",
   "metadata": {},
   "outputs": [
    {
     "data": {
      "text/plain": [
       "array([ True,  True,  True, False,  True,  True,  True, False, False,\n",
       "        True])"
      ]
     },
     "execution_count": 135,
     "metadata": {},
     "output_type": "execute_result"
    }
   ],
   "source": [
    "X == y"
   ]
  },
  {
   "cell_type": "markdown",
   "id": "9a404333",
   "metadata": {},
   "source": [
    "*Accuracy*"
   ]
  },
  {
   "cell_type": "code",
   "execution_count": 136,
   "id": "c09facad",
   "metadata": {},
   "outputs": [],
   "source": [
    "def accuracy(X, y):\n",
    "    true_num = 0\n",
    "    for i in range(y.shape[0]):\n",
    "        if X[i] == y[i]:\n",
    "            true_num += 1\n",
    "    return true_num / y.shape[0]"
   ]
  },
  {
   "cell_type": "markdown",
   "id": "db80c04e",
   "metadata": {},
   "source": [
    "*Матрица ошибок*"
   ]
  },
  {
   "cell_type": "code",
   "execution_count": 137,
   "id": "86dad0fd",
   "metadata": {},
   "outputs": [],
   "source": [
    "def mat_errors(X, y):\n",
    "    mat_err = np.zeros((2, 2))\n",
    "    for i in range(y.shape[0]):\n",
    "        if X[i] == 1 and y[i] == 1: #True positive\n",
    "            mat_err[0, 0] += 1\n",
    "        elif X[i] == 1 and y[i] == 0: #False positive\n",
    "            mat_err[0, 1] += 1\n",
    "        elif X[i] == 0 and y[i] == 1: #False negative\n",
    "            mat_err[1, 0] += 1\n",
    "        elif X[i] == 0 and y[i] == 0: #True negative\n",
    "            mat_err[1, 1] += 1\n",
    "        else:\n",
    "            print('Некорректные данные')\n",
    "    return mat_err"
   ]
  },
  {
   "cell_type": "markdown",
   "id": "198892bf",
   "metadata": {},
   "source": [
    "*Precision*"
   ]
  },
  {
   "cell_type": "code",
   "execution_count": 138,
   "id": "c31549f4",
   "metadata": {},
   "outputs": [],
   "source": [
    "def precision(X, y): \n",
    "    TP, FP = 0, 0\n",
    "    for i in range(y.shape[0]):\n",
    "        if X[i] == 1 and y[i] == 1: #True positive\n",
    "            TP += 1\n",
    "        elif X[i] == 1 and y[i] == 0: #False positive\n",
    "            FP += 1\n",
    "    return TP / (TP + FP) #precision = TP / (TP + FP)"
   ]
  },
  {
   "cell_type": "markdown",
   "id": "65014cec",
   "metadata": {},
   "source": [
    "*Recall*"
   ]
  },
  {
   "cell_type": "code",
   "execution_count": 139,
   "id": "91be97e5",
   "metadata": {},
   "outputs": [],
   "source": [
    "def recall(X, y): \n",
    "    TP, FN = 0, 0\n",
    "    for i in range(y.shape[0]):\n",
    "        if X[i] == 1 and y[i] == 1: #True positive\n",
    "            TP += 1\n",
    "        elif X[i] == 0 and y[i] == 1: #False negative\n",
    "            FN += 1\n",
    "    return TP / (TP + FN) #recall = TP / (TP + FN)"
   ]
  },
  {
   "cell_type": "markdown",
   "id": "75eb74fc",
   "metadata": {},
   "source": [
    "*F1-score*"
   ]
  },
  {
   "cell_type": "code",
   "execution_count": 140,
   "id": "f8a2bd87",
   "metadata": {},
   "outputs": [],
   "source": [
    "def F1_score(X, y, b=1):\n",
    "    recall_ = recall(X, y)\n",
    "    precision_ =  precision(X, y)\n",
    "    return (1 + b ** 2) * (recall_ * precision_) / ((b ** 2) *precision_ + recall_)"
   ]
  },
  {
   "cell_type": "markdown",
   "id": "46c0526a",
   "metadata": {},
   "source": [
    "*Результат*"
   ]
  },
  {
   "cell_type": "code",
   "execution_count": 141,
   "id": "846a5b70",
   "metadata": {},
   "outputs": [
    {
     "data": {
      "text/plain": [
       "0.7"
      ]
     },
     "execution_count": 141,
     "metadata": {},
     "output_type": "execute_result"
    }
   ],
   "source": [
    "accuracy(X, y)"
   ]
  },
  {
   "cell_type": "code",
   "execution_count": 142,
   "id": "fa0d366a",
   "metadata": {},
   "outputs": [
    {
     "data": {
      "text/plain": [
       "array([[4., 2.],\n",
       "       [1., 3.]])"
      ]
     },
     "execution_count": 142,
     "metadata": {},
     "output_type": "execute_result"
    }
   ],
   "source": [
    "mat_errors(X, y)"
   ]
  },
  {
   "cell_type": "code",
   "execution_count": 143,
   "id": "da2f891d",
   "metadata": {},
   "outputs": [
    {
     "data": {
      "text/plain": [
       "0.6666666666666666"
      ]
     },
     "execution_count": 143,
     "metadata": {},
     "output_type": "execute_result"
    }
   ],
   "source": [
    "precision(X, y)"
   ]
  },
  {
   "cell_type": "code",
   "execution_count": 144,
   "id": "c024b417",
   "metadata": {},
   "outputs": [
    {
     "data": {
      "text/plain": [
       "0.8"
      ]
     },
     "execution_count": 144,
     "metadata": {},
     "output_type": "execute_result"
    }
   ],
   "source": [
    "recall(X, y)"
   ]
  },
  {
   "cell_type": "code",
   "execution_count": 145,
   "id": "f5a4ffb0",
   "metadata": {},
   "outputs": [
    {
     "data": {
      "text/plain": [
       "0.7272727272727272"
      ]
     },
     "execution_count": 145,
     "metadata": {},
     "output_type": "execute_result"
    }
   ],
   "source": [
    "F1_score(X, y)"
   ]
  }
 ],
 "metadata": {
  "kernelspec": {
   "display_name": "Python 3 (ipykernel)",
   "language": "python",
   "name": "python3"
  },
  "language_info": {
   "codemirror_mode": {
    "name": "ipython",
    "version": 3
   },
   "file_extension": ".py",
   "mimetype": "text/x-python",
   "name": "python",
   "nbconvert_exporter": "python",
   "pygments_lexer": "ipython3",
   "version": "3.9.2"
  }
 },
 "nbformat": 4,
 "nbformat_minor": 5
}
