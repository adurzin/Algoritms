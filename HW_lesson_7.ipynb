{
 "cells": [
  {
   "cell_type": "markdown",
   "id": "f684219f",
   "metadata": {},
   "source": [
    "# Урок №7. Домашнее задание."
   ]
  },
  {
   "cell_type": "markdown",
   "id": "4a77731f",
   "metadata": {},
   "source": [
    "1. К алгоритму kNN, представленному на уроке, реализуйте добавление весов для соседей по любому из показанных на уроке принципов. Сравните точность нового алгоритма с исходным при разных значениях `k`."
   ]
  },
  {
   "cell_type": "code",
   "execution_count": 1,
   "id": "146ffe3c",
   "metadata": {},
   "outputs": [],
   "source": [
    "import numpy as np\n",
    "from sklearn import model_selection\n",
    "from sklearn.datasets import load_iris\n",
    "import matplotlib.pyplot as plt\n",
    "from matplotlib.colors import ListedColormap\n",
    "\n",
    "%matplotlib inline"
   ]
  },
  {
   "cell_type": "code",
   "execution_count": 2,
   "id": "a26e452f",
   "metadata": {},
   "outputs": [],
   "source": [
    "X, y = load_iris(return_X_y=True)\n",
    "\n",
    "X = X[:, :2]"
   ]
  },
  {
   "cell_type": "code",
   "execution_count": 3,
   "id": "ae6fd5d0",
   "metadata": {},
   "outputs": [],
   "source": [
    "X_train, X_test, y_train, y_test = model_selection.train_test_split(X, y, test_size=0.4, random_state=15)"
   ]
  },
  {
   "cell_type": "code",
   "execution_count": 4,
   "id": "c43adede",
   "metadata": {},
   "outputs": [
    {
     "data": {
      "image/png": "[encoded data removed]",
      "text/plain": [
       "<Figure size 504x504 with 1 Axes>"
      ]
     },
     "metadata": {
      "needs_background": "light"
     },
     "output_type": "display_data"
    }
   ],
   "source": [
    "cmap = ListedColormap(['red','green', 'blue'])\n",
    "plt.figure(figsize=(7, 7))\n",
    "plt.scatter(X[:, 0], X[:, 1], c=y, cmap=cmap)\n",
    "plt.show()"
   ]
  },
  {
   "cell_type": "code",
   "execution_count": 5,
   "id": "8aad96f0",
   "metadata": {},
   "outputs": [],
   "source": [
    "# Евклидова метрика:\n",
    "def e_metrics(x1, x2):\n",
    "    distance = 0\n",
    "    for i in range(len(x1)):\n",
    "        distance += np.square(x1[i] - x2[i])\n",
    "    return np.sqrt(distance)"
   ]
  },
  {
   "cell_type": "code",
   "execution_count": 6,
   "id": "599e3296",
   "metadata": {},
   "outputs": [],
   "source": [
    "# Алгоритм поиска брижайших соседей\n",
    "def knn(X_train, y_train, X_test, k):\n",
    "    \n",
    "    answers = []\n",
    "    for X in X_test:\n",
    "        test_distances = []\n",
    "        \n",
    "        for i in range(len(X_train)):\n",
    "            \n",
    "            distance = e_metrics(X, X_train[i])\n",
    "            \n",
    "            test_distances.append((distance, y_train[i]))\n",
    "            \n",
    "        k_neighbours = sorted(test_distances)[0:k]\n",
    "        \n",
    "        classes = {class_item: 0 for class_item in set(y_train)}\n",
    "        \n",
    "        for d in k_neighbours:\n",
    "            classes[d[1]] += 1 # вес каждого соседа равен 1\n",
    "            \n",
    "        answers.append(sorted(classes, key=classes.get)[-1])\n",
    "    return answers"
   ]
  },
  {
   "cell_type": "code",
   "execution_count": 7,
   "id": "80e46e1e",
   "metadata": {},
   "outputs": [],
   "source": [
    "# Функция вычисления точности\n",
    "def accuracy(pred, y):\n",
    "    return (sum(pred == y) / len(y))"
   ]
  },
  {
   "cell_type": "code",
   "execution_count": 8,
   "id": "9b633217",
   "metadata": {},
   "outputs": [
    {
     "name": "stdout",
     "output_type": "stream",
     "text": [
      "Точность алгоритма при k = 1: 0.733\n",
      "Точность алгоритма при k = 2: 0.717\n",
      "Точность алгоритма при k = 3: 0.767\n",
      "Точность алгоритма при k = 5: 0.700\n",
      "Точность алгоритма при k = 6: 0.733\n",
      "Точность алгоритма при k = 8: 0.783\n",
      "Точность алгоритма при k = 9: 0.800\n",
      "Точность алгоритма при k = 10: 0.800\n",
      "Точность алгоритма при k = 11: 0.750\n",
      "Точность алгоритма при k = 12: 0.783\n"
     ]
    }
   ],
   "source": [
    "k_all = [1, 2, 3, 5, 6, 8, 9, 10, 11, 12]\n",
    "for k in k_all:\n",
    "    y_pred = knn(X_train, y_train, X_test, k)\n",
    "    print(f'Точность алгоритма при k = {k}: {accuracy(y_pred, y_test):.3f}')"
   ]
  },
  {
   "cell_type": "code",
   "execution_count": 9,
   "id": "485957f6",
   "metadata": {},
   "outputs": [],
   "source": [
    "# алгоритм определения соседей с добавлением веса от номера соседа\n",
    "def knn_w(X_train, y_train, X_test, k):\n",
    "    \n",
    "    answers = []\n",
    "    for X in X_test:\n",
    "        test_distances = []\n",
    "        \n",
    "        for i in range(len(X_train)):\n",
    "            \n",
    "            distance = e_metrics(X, X_train[i])\n",
    "            \n",
    "            test_distances.append((distance, y_train[i]))\n",
    "            \n",
    "        k_neighbours = sorted(test_distances)[0:k]\n",
    "        \n",
    "        classes = {class_item: 0 for class_item in set(y_train)}\n",
    "        \n",
    "        i = 1\n",
    "        for d in k_neighbours:\n",
    "            classes[d[1]] += 1 / ((i + 1) ** 0.5)\n",
    "            i += 1\n",
    "            \n",
    "        answers.append(sorted(classes, key=classes.get)[-1])\n",
    "    return answers"
   ]
  },
  {
   "cell_type": "code",
   "execution_count": 10,
   "id": "991cfbfd",
   "metadata": {},
   "outputs": [],
   "source": [
    "# алгоритм определения соседей с добавлением веса от расстояния до соседа\n",
    "def knn_d(X_train, y_train, X_test, k):\n",
    "    \n",
    "    answers = []\n",
    "    for X in X_test:\n",
    "        test_distances = []\n",
    "        \n",
    "        for i in range(len(X_train)):\n",
    "            \n",
    "            distance = e_metrics(X, X_train[i])\n",
    "            \n",
    "            test_distances.append((distance, y_train[i]))\n",
    "            \n",
    "        k_neighbours = sorted(test_distances)[0:k]\n",
    "        \n",
    "        classes = {class_item: 0 for class_item in set(y_train)}\n",
    "        \n",
    "        for d in k_neighbours:\n",
    "            classes[d[1]] += 1 / (d[0] + 1) ** 2\n",
    "            \n",
    "        answers.append(sorted(classes, key=classes.get)[-1])\n",
    "    return answers"
   ]
  },
  {
   "cell_type": "code",
   "execution_count": 11,
   "id": "686cadcd",
   "metadata": {},
   "outputs": [
    {
     "name": "stdout",
     "output_type": "stream",
     "text": [
      "Точность алгоритма при k = 1: knn: 0.733 knn_w: 0.733, knn_d: 0.733\n",
      "Точность алгоритма при k = 2: knn: 0.717 knn_w: 0.733, knn_d: 0.733\n",
      "Точность алгоритма при k = 3: knn: 0.767 knn_w: 0.767, knn_d: 0.767\n",
      "Точность алгоритма при k = 4: knn: 0.700 knn_w: 0.767, knn_d: 0.750\n",
      "Точность алгоритма при k = 5: knn: 0.700 knn_w: 0.700, knn_d: 0.700\n",
      "Точность алгоритма при k = 6: knn: 0.733 knn_w: 0.733, knn_d: 0.750\n",
      "Точность алгоритма при k = 7: knn: 0.767 knn_w: 0.733, knn_d: 0.767\n",
      "Точность алгоритма при k = 8: knn: 0.783 knn_w: 0.800, knn_d: 0.817\n",
      "Точность алгоритма при k = 9: knn: 0.800 knn_w: 0.767, knn_d: 0.783\n",
      "Точность алгоритма при k = 10: knn: 0.800 knn_w: 0.767, knn_d: 0.783\n",
      "Точность алгоритма при k = 11: knn: 0.750 knn_w: 0.767, knn_d: 0.750\n",
      "Точность алгоритма при k = 12: knn: 0.783 knn_w: 0.750, knn_d: 0.767\n",
      "Точность алгоритма при k = 13: knn: 0.767 knn_w: 0.767, knn_d: 0.767\n",
      "Точность алгоритма при k = 14: knn: 0.800 knn_w: 0.767, knn_d: 0.767\n"
     ]
    }
   ],
   "source": [
    "k_all = [1, 2, 3, 4, 5, 6, 7, 8, 9, 10, 11, 12, 13, 14]\n",
    "for k in k_all:\n",
    "    y_pred = knn(X_train, y_train, X_test, k)\n",
    "    y_pred_w = knn_w(X_train, y_train, X_test, k)\n",
    "    y_pred_d = knn_d(X_train, y_train, X_test, k)\n",
    "    print(f'Точность алгоритма при k = {k}: knn: {accuracy(y_pred, y_test):.3f} '\n",
    "          f'knn_w: {accuracy(y_pred_w, y_test):.3f}, knn_d: {accuracy(y_pred_d, y_test):.3f}')"
   ]
  },
  {
   "cell_type": "markdown",
   "id": "83f38e5e",
   "metadata": {},
   "source": [
    "Лучше всего себя показывает вес в зависимости от расстояния до соседей: при к=8, точность - 81,7 %"
   ]
  },
  {
   "cell_type": "markdown",
   "id": "4d8506e4",
   "metadata": {},
   "source": [
    "2. (\\*) Напишите функцию подсчета метрики качества кластеризации как среднее квадратичное внутрикластерное расстояние и постройте график ее зависимости от количества кластеров `k` (взять от 1 до 10) для выборки данных из данного урока (создать датасет, как в методичке)."
   ]
  },
  {
   "cell_type": "code",
   "execution_count": 15,
   "id": "b43fcf78",
   "metadata": {},
   "outputs": [],
   "source": [
    "from sklearn.datasets import make_blobs\n",
    "\n",
    "X, y = make_blobs(n_samples=100, random_state=1)"
   ]
  },
  {
   "cell_type": "code",
   "execution_count": 16,
   "id": "9dc2e7eb",
   "metadata": {},
   "outputs": [
    {
     "data": {
      "image/png": "[encoded data removed]",
      "text/plain": [
       "<Figure size 360x360 with 1 Axes>"
      ]
     },
     "metadata": {
      "needs_background": "light"
     },
     "output_type": "display_data"
    }
   ],
   "source": [
    "plt.figure(figsize=(5, 5))\n",
    "plt.scatter(X[:, 0], X[:, 1])\n",
    "plt.show()"
   ]
  },
  {
   "cell_type": "code",
   "execution_count": 85,
   "id": "1780f63d",
   "metadata": {},
   "outputs": [],
   "source": [
    "def kmeans(data, k, max_iterations, min_distance):\n",
    "    \n",
    "    # инициализируем центроиды как первые k элементов датасета\n",
    "    centroids = [data[i] for i in range(k)]\n",
    "    \n",
    "    for i in range(max_iterations):\n",
    "        # Создадим словарь для классификации\n",
    "        classes = {i: [] for i in range(k)}\n",
    "        \n",
    "        for x in data:\n",
    "            distances = [e_metrics(x, centroid) for centroid in centroids]\n",
    "\n",
    "            classification = distances.index(min(distances))\n",
    "            classes[classification].append(x)\n",
    "\n",
    "        old_centroids = centroids.copy()\n",
    "\n",
    "        for classification in classes:\n",
    "            centroids[classification] = np.average(classes[classification], axis=0)\n",
    "\n",
    "        optimal = True\n",
    "\n",
    "        for ind in range(len(centroids)):\n",
    "            distance = e_metrics(centroids[ind], old_centroids[ind])\n",
    "            if distance > min_distance:\n",
    "                optimal = False\n",
    "\n",
    "        if optimal:\n",
    "#             print('stop:', i)\n",
    "            break\n",
    "        \n",
    "    return old_centroids, classes"
   ]
  },
  {
   "cell_type": "code",
   "execution_count": 38,
   "id": "6bea9653",
   "metadata": {},
   "outputs": [],
   "source": [
    "def visualize(centroids, classes):\n",
    "    colors = ['r', 'g', 'b']\n",
    "    \n",
    "    plt.figure(figsize=(6, 6))\n",
    "    \n",
    "    # нанесем на график центроиды\n",
    "    for centroid in centroids:\n",
    "        plt.scatter(centroid[0], centroid[1], marker='x', s=130, c='black')\n",
    "        \n",
    "    # нанесем объекты, раскрашенные по классам\n",
    "    for class_item in classes:\n",
    "        for x in classes[class_item]:\n",
    "            plt.scatter(x[0], x[1], color=colors[class_item], alpha=0.7)\n",
    "            \n",
    "    plt.show()"
   ]
  },
  {
   "cell_type": "code",
   "execution_count": 84,
   "id": "5e73196b",
   "metadata": {},
   "outputs": [
    {
     "name": "stdout",
     "output_type": "stream",
     "text": [
      "stop: 3\n"
     ]
    },
    {
     "data": {
      "image/png": "[encoded data removed]",
      "text/plain": [
       "<Figure size 432x432 with 1 Axes>"
      ]
     },
     "metadata": {
      "needs_background": "light"
     },
     "output_type": "display_data"
    }
   ],
   "source": [
    "# определим максимальное количество итераций\n",
    "max_iterations = 8\n",
    "\n",
    "# сразу определим известное нам количество кластеров\n",
    "k = 3\n",
    "\n",
    "# и минимальное расстояние между центроидами до пересчета и после него, при котором нужно остановить алгоритм\n",
    "min_distance = 1e-4\n",
    "\n",
    "centroids, clusters = kmeans(X, k, max_iterations, min_distance)\n",
    "\n",
    "visualize(centroids, clusters)"
   ]
  },
  {
   "cell_type": "code",
   "execution_count": 49,
   "id": "7d143a80",
   "metadata": {},
   "outputs": [
    {
     "data": {
      "text/plain": [
       "[array([-1.4710815 ,  4.33721882]),\n",
       " array([-6.67314756, -8.10778035]),\n",
       " array([-10.06082976,  -3.79341568])]"
      ]
     },
     "execution_count": 49,
     "metadata": {},
     "output_type": "execute_result"
    }
   ],
   "source": [
    "def e_metrics(x1, x2):\n",
    "    distance = 0\n",
    "    for i in range(len(x1)):\n",
    "        distance += np.square(x1[i] - x2[i])\n",
    "    return np.sqrt(distance)"
   ]
  },
  {
   "cell_type": "code",
   "execution_count": 129,
   "id": "b57191d1",
   "metadata": {},
   "outputs": [],
   "source": [
    "def quality(X, k, centroids, clusters):\n",
    "    quality = 0 # качество разбиения\n",
    "\n",
    "    for cluster in clusters:\n",
    "        sum_cluster_quality = 0 # качество одного кластера\n",
    "        for x in clusters[cluster]:\n",
    "            sum_cluster_quality += (e_metrics(x, centroids[cluster])) ** 2\n",
    "        quality += sum_cluster_quality / len(clusters[cluster])\n",
    "#     print(quality)\n",
    "\n",
    "    return quality"
   ]
  },
  {
   "cell_type": "code",
   "execution_count": 155,
   "id": "29677d97",
   "metadata": {},
   "outputs": [],
   "source": [
    "def quality_print(num_k): # num_k - до какого количества кластеров необходимо нарисовать кривую качества разбиения.\n",
    "    plt.figure(figsize=(10, 6))\n",
    "    x, y = [], []\n",
    "    for k in range(1, num_k + 1):\n",
    "        centroids, clusters = kmeans(X, k, max_iterations, min_distance)\n",
    "        print(f'при k={k}: {quality(X, k, centroids, clusters)}')\n",
    "        x.append(k), y.append(quality(X, k, centroids, clusters))\n",
    "    plt.plot(x, y, c='red', marker='o')\n",
    "    plt.xlabel('Number of clusters')\n",
    "    plt.ylabel('Quality')\n",
    "    plt.show()"
   ]
  },
  {
   "cell_type": "code",
   "execution_count": 154,
   "id": "a9dedc97",
   "metadata": {},
   "outputs": [
    {
     "name": "stdout",
     "output_type": "stream",
     "text": [
      "при k=1: 41.1815377770447\n",
      "при k=2: 10.881849094602703\n",
      "при k=3: 4.682216258738468\n",
      "при k=4: 4.834363560848225\n",
      "при k=5: 4.715237884593066\n",
      "при k=6: 5.692331738106566\n",
      "при k=7: 5.48129814571242\n",
      "при k=8: 5.619563724867451\n",
      "при k=9: 5.91545920542921\n",
      "при k=10: 5.696782421502369\n",
      "при k=11: 5.69487808313954\n",
      "при k=12: 5.538421595953724\n",
      "при k=13: 5.6924432818497355\n",
      "при k=14: 5.799620520475508\n",
      "при k=15: 5.44465822335948\n"
     ]
    },
    {
     "data": {
      "image/png": "[encoded data removed]",
      "text/plain": [
       "<Figure size 720x432 with 1 Axes>"
      ]
     },
     "metadata": {
      "needs_background": "light"
     },
     "output_type": "display_data"
    }
   ],
   "source": [
    "quality_print(15)"
   ]
  },
  {
   "cell_type": "markdown",
   "id": "5d8d4f02",
   "metadata": {},
   "source": [
    "Исходя из графика видно, что лучший результат при количестве кластеров k = 3."
   ]
  }
 ],
 "metadata": {
  "kernelspec": {
   "display_name": "Python 3 (ipykernel)",
   "language": "python",
   "name": "python3"
  },
  "language_info": {
   "codemirror_mode": {
    "name": "ipython",
    "version": 3
   },
   "file_extension": ".py",
   "mimetype": "text/x-python",
   "name": "python",
   "nbconvert_exporter": "python",
   "pygments_lexer": "ipython3",
   "version": "3.10.4"
  }
 },
 "nbformat": 4,
 "nbformat_minor": 5
}
