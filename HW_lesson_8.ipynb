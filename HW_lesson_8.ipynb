{
 "cells": [
  {
   "cell_type": "markdown",
   "id": "bc228cf8",
   "metadata": {},
   "source": [
    "# Урок 8. Домашнее задание."
   ]
  },
  {
   "cell_type": "markdown",
   "id": "b2c897c6",
   "metadata": {},
   "source": [
    "1. Можно ли отобрать наиболее значимые признаки с помощью PCA? Ответ объясните."
   ]
  },
  {
   "cell_type": "markdown",
   "id": "1e304fda",
   "metadata": {},
   "source": [
    "**Это сделать невозможно, так как при применении PCA образуются новые признаки, с целью уменьшения количества признаков с некоторой потерей данных.**"
   ]
  },
  {
   "cell_type": "markdown",
   "id": "b161105c",
   "metadata": {},
   "source": [
    "2. (\\*) Написать свою реализацию метода главных компонент с помощью сингулярного разложения с использованием функции [numpy.linalg.svd()](https://docs.scipy.org/doc/numpy/reference/generated/numpy.linalg.svd.html). Применить к данным на уроке и сравнить ответы."
   ]
  },
  {
   "cell_type": "code",
   "execution_count": 191,
   "id": "efe08eab",
   "metadata": {},
   "outputs": [],
   "source": [
    "import numpy as np\n",
    "from sklearn import datasets\n",
    "import matplotlib.pyplot as plt"
   ]
  },
  {
   "cell_type": "code",
   "execution_count": 192,
   "id": "1a04dfa7",
   "metadata": {},
   "outputs": [
    {
     "data": {
      "text/plain": [
       "(150, 4)"
      ]
     },
     "execution_count": 192,
     "metadata": {},
     "output_type": "execute_result"
    }
   ],
   "source": [
    "iris = datasets.load_iris()\n",
    "X = iris.data\n",
    "X.shape"
   ]
  },
  {
   "cell_type": "code",
   "execution_count": 193,
   "id": "df5b542a",
   "metadata": {},
   "outputs": [],
   "source": [
    "# Масштабируем выборку\n",
    "X_ = X.astype(float)\n",
    "\n",
    "rows, cols = X_.shape\n",
    "\n",
    "# центрирование - вычитание из каждого значения среднего по признаку\n",
    "means = X_.mean(axis=0)\n",
    "for i in range(rows):\n",
    "    for j in range(cols):\n",
    "        X_[i, j] -= means[j]\n",
    "        \n",
    "# деление каждого значения на стандартное отклонение\n",
    "std = np.std(X_, axis=0)\n",
    "for j in range(cols):\n",
    "    for i in range(rows):\n",
    "        X_[i, j] /= std[j]"
   ]
  },
  {
   "cell_type": "code",
   "execution_count": 194,
   "id": "63dabf81",
   "metadata": {},
   "outputs": [
    {
     "data": {
      "text/plain": [
       "array([[ 0.52106591, -0.37741762,  0.71956635,  0.26128628],\n",
       "       [-0.26934744, -0.92329566, -0.24438178, -0.12350962],\n",
       "       [ 0.5804131 , -0.02449161, -0.14212637, -0.80144925],\n",
       "       [ 0.56485654, -0.06694199, -0.63427274,  0.52359713]])"
      ]
     },
     "execution_count": 194,
     "metadata": {},
     "output_type": "execute_result"
    }
   ],
   "source": [
    "# Находим собственные векторы матрицы XTX\n",
    "V = np.linalg.svd(X_)[2].T\n",
    "V"
   ]
  },
  {
   "cell_type": "code",
   "execution_count": 195,
   "id": "9dbe36a2",
   "metadata": {},
   "outputs": [],
   "source": [
    "D = np.linalg.svd(X_)[1] ** 2 # собственные значения матрицы XTX"
   ]
  },
  {
   "cell_type": "code",
   "execution_count": 196,
   "id": "d861302e",
   "metadata": {},
   "outputs": [
    {
     "name": "stdout",
     "output_type": "stream",
     "text": [
      "[72.96244541329989, 22.850761786701746, 3.6689218892828785, 0.5178709107154802]\n"
     ]
    }
   ],
   "source": [
    "# Доля дисперсии, описываемая каждой из компонент:\n",
    "print(sorted([D[i] / sum(D) * 100 for i in range(len(D))], reverse=True))"
   ]
  },
  {
   "cell_type": "markdown",
   "id": "270aa860",
   "metadata": {},
   "source": [
    "Выбираем две компоненты c долей дисперсии 72.96 и 22.85."
   ]
  },
  {
   "cell_type": "code",
   "execution_count": 197,
   "id": "f55f8eda",
   "metadata": {},
   "outputs": [
    {
     "data": {
      "text/plain": [
       "array([[ 0.52106591, -0.37741762],\n",
       "       [-0.26934744, -0.92329566],\n",
       "       [ 0.5804131 , -0.02449161],\n",
       "       [ 0.56485654, -0.06694199]])"
      ]
     },
     "execution_count": 197,
     "metadata": {},
     "output_type": "execute_result"
    }
   ],
   "source": [
    "V = V[:, :2] # оставляем только 2 признака\n",
    "V"
   ]
  },
  {
   "cell_type": "code",
   "execution_count": 198,
   "id": "fa94be30",
   "metadata": {},
   "outputs": [
    {
     "data": {
      "text/plain": [
       "(150, 2)"
      ]
     },
     "execution_count": 198,
     "metadata": {},
     "output_type": "execute_result"
    }
   ],
   "source": [
    "# Формируем новую матрицу объкеты-признаки:\n",
    "Z = X_.dot(V)\n",
    "Z.shape"
   ]
  },
  {
   "cell_type": "code",
   "execution_count": 199,
   "id": "b930b53c",
   "metadata": {},
   "outputs": [
    {
     "data": {
      "image/png": "[encoded data removed]",
      "text/plain": [
       "<Figure size 432x288 with 1 Axes>"
      ]
     },
     "metadata": {
      "needs_background": "light"
     },
     "output_type": "display_data"
    }
   ],
   "source": [
    "plt.figure()\n",
    "y = iris.target\n",
    "for c, i in zip('rgb', [0, 1, 2]):\n",
    "    plt.scatter(Z[y==i, 0], Z[y==i, 1], c=c)\n",
    "plt.xlabel('Главная компонента 1')\n",
    "plt.ylabel('Главная компонента 2')\n",
    "plt.title('PCA датасета IRIS')\n",
    "plt.show()"
   ]
  },
  {
   "cell_type": "markdown",
   "id": "2ec6b273",
   "metadata": {},
   "source": [
    "3. (\\*) Обучить любую модель классификации (из рассмотренных в курсе) на датасете IRIS до применения PCA и после него. Сравнить качество классификации по отложенной выборке."
   ]
  },
  {
   "cell_type": "markdown",
   "id": "73d4ffe1",
   "metadata": {},
   "source": [
    "Возьмем алгоритм случайного леса для создания модели классификации на датасете IRIS"
   ]
  },
  {
   "cell_type": "code",
   "execution_count": 200,
   "id": "64b2884c",
   "metadata": {},
   "outputs": [],
   "source": [
    "from sklearn import datasets, model_selection\n",
    "import random"
   ]
  },
  {
   "cell_type": "code",
   "execution_count": 201,
   "id": "edd87c2c",
   "metadata": {},
   "outputs": [],
   "source": [
    "# Введем функцию подсчета точности как доли правильных ответов\n",
    "\n",
    "def accuracy_metric(actual, predicted):\n",
    "    correct = 0\n",
    "    for i in range(len(actual)):\n",
    "        if actual[i] == predicted[i]:\n",
    "            correct += 1\n",
    "    return correct / float(len(actual)) * 100.0"
   ]
  },
  {
   "cell_type": "code",
   "execution_count": 202,
   "id": "bd121ba7",
   "metadata": {},
   "outputs": [],
   "source": [
    "# Реализуем класс узла\n",
    "\n",
    "class Node:\n",
    "    \n",
    "    def __init__(self, index, t, true_branch, false_branch):\n",
    "        self.index = index  # индекс признака, по которому ведется сравнение с порогом в этом узле\n",
    "        self.t = t  # значение порога\n",
    "        self.true_branch = true_branch  # поддерево, удовлетворяющее условию в узле\n",
    "        self.false_branch = false_branch  # поддерево, не удовлетворяющее условию в узле"
   ]
  },
  {
   "cell_type": "code",
   "execution_count": 203,
   "id": "1eacd143",
   "metadata": {},
   "outputs": [],
   "source": [
    "# И класс терминального узла (листа)\n",
    "\n",
    "class Leaf:\n",
    "    \n",
    "    def __init__(self, data, labels):\n",
    "        self.data = data\n",
    "        self.labels = labels\n",
    "        self.prediction = self.predict()\n",
    "        \n",
    "    def predict(self):\n",
    "        # подсчет количества объектов разных классов\n",
    "        classes = {}  # сформируем словарь \"класс: количество объектов\"\n",
    "        for label in self.labels:\n",
    "            if label not in classes:\n",
    "                classes[label] = 0\n",
    "            classes[label] += 1\n",
    "        #  найдем класс, количество объектов которого будет максимальным в этом листе и вернем его    \n",
    "        prediction = max(classes, key=classes.get)\n",
    "        return prediction     "
   ]
  },
  {
   "cell_type": "code",
   "execution_count": 204,
   "id": "21354b52",
   "metadata": {},
   "outputs": [],
   "source": [
    "# Расчет критерия Джини\n",
    "\n",
    "def gini(labels):\n",
    "    #  подсчет количества объектов разных классов\n",
    "    classes = {}\n",
    "    for label in labels:\n",
    "        if label not in classes:\n",
    "            classes[label] = 0\n",
    "        classes[label] += 1\n",
    "    \n",
    "    #  расчет критерия\n",
    "    impurity = 1\n",
    "    for label in classes:\n",
    "        p = classes[label] / len(labels)\n",
    "        impurity -= p ** 2\n",
    "        \n",
    "    return impurity"
   ]
  },
  {
   "cell_type": "code",
   "execution_count": 205,
   "id": "3ab41b36",
   "metadata": {},
   "outputs": [],
   "source": [
    "# Расчет качества\n",
    "\n",
    "def quality(left_labels, right_labels, current_gini):\n",
    "\n",
    "    # доля выбоки, ушедшая в левое поддерево\n",
    "    p = float(left_labels.shape[0]) / (left_labels.shape[0] + right_labels.shape[0])\n",
    "    \n",
    "    return current_gini - p * gini(left_labels) - (1 - p) * gini(right_labels)"
   ]
  },
  {
   "cell_type": "code",
   "execution_count": 206,
   "id": "f7d2812f",
   "metadata": {},
   "outputs": [],
   "source": [
    "# Разбиение датасета в узле\n",
    "\n",
    "def split(data, labels, index, t):\n",
    "    \n",
    "    left = np.where(data[:, index] <= t)\n",
    "    right = np.where(data[:, index] > t)\n",
    "        \n",
    "    true_data = data[left]\n",
    "    false_data = data[right]\n",
    "    true_labels = labels[left]\n",
    "    false_labels = labels[right]\n",
    "        \n",
    "    return true_data, false_data, true_labels, false_labels"
   ]
  },
  {
   "cell_type": "code",
   "execution_count": 207,
   "id": "46b717ca",
   "metadata": {},
   "outputs": [],
   "source": [
    "# Нахождение наилучшего разбиения\n",
    "\n",
    "def find_best_split(data, labels, min_samples_leaf=1):\n",
    "\n",
    "    current_gini = gini(labels)\n",
    "\n",
    "    best_quality = 0\n",
    "    best_t = None\n",
    "    best_index = None\n",
    "    \n",
    "    n_features = data.shape[1]\n",
    "    \n",
    "    # выбор индекса из подвыборки длиной sqrt(n_features)\n",
    "    subsample = get_subsample(n_features)\n",
    "    \n",
    "    for index in subsample:\n",
    "        # будем проверять только уникальные значения признака, исключая повторения\n",
    "        t_values = np.unique([row[index] for row in data])\n",
    "        \n",
    "        for t in t_values:\n",
    "            true_data, false_data, true_labels, false_labels = split(data, labels, index, t)\n",
    "            #  пропускаем разбиения, в которых в узле остается менее min_leaf объекта\n",
    "            if len(true_data) < min_samples_leaf or len(false_data) < min_samples_leaf:\n",
    "                continue\n",
    "            \n",
    "            current_quality = quality(true_labels, false_labels, current_gini)\n",
    "            \n",
    "            #  выбираем порог, на котором получается максимальный прирост качества\n",
    "            if current_quality > best_quality:\n",
    "                best_quality, best_t, best_index = current_quality, t, index\n",
    "\n",
    "    return best_quality, best_t, best_index"
   ]
  },
  {
   "cell_type": "code",
   "execution_count": 208,
   "id": "791555ac",
   "metadata": {},
   "outputs": [],
   "source": [
    "# Построение дерева с помощью рекурсивной функции\n",
    "\n",
    "def build_tree(data, labels, min_samples_leaf=1, max_depth=None, depth=0):\n",
    "\n",
    "    quality, t, index = find_best_split(data, labels, min_samples_leaf)\n",
    "\n",
    "    #  Базовый случай - прекращаем рекурсию, когда нет прироста в качества\n",
    "    if quality == 0:\n",
    "        return Leaf(data, labels)\n",
    "    \n",
    "    if max_depth and depth >= max_depth:\n",
    "        return Leaf(data, labels)\n",
    "    \n",
    "    depth += 1\n",
    "\n",
    "    true_data, false_data, true_labels, false_labels = split(data, labels, index, t)\n",
    "\n",
    "    # Рекурсивно строим два поддерева\n",
    "    true_branch = build_tree(true_data, true_labels, min_samples_leaf, max_depth, depth)\n",
    "    false_branch = build_tree(false_data, false_labels, min_samples_leaf, max_depth, depth)\n",
    "\n",
    "    # Возвращаем класс узла со всеми поддеревьями, то есть целого дерева\n",
    "    return Node(index, t, true_branch, false_branch)"
   ]
  },
  {
   "cell_type": "code",
   "execution_count": 209,
   "id": "21ce613b",
   "metadata": {},
   "outputs": [],
   "source": [
    "# Функция классификации отдельного объекта\n",
    "\n",
    "def classify_object(obj, node):\n",
    "\n",
    "    #  Останавливаем рекурсию, если достигли листа\n",
    "    if isinstance(node, Leaf):\n",
    "        answer = node.prediction\n",
    "        return answer\n",
    "\n",
    "    if obj[node.index] <= node.t:\n",
    "        return classify_object(obj, node.true_branch)\n",
    "    else:\n",
    "        return classify_object(obj, node.false_branch)"
   ]
  },
  {
   "cell_type": "code",
   "execution_count": 210,
   "id": "b9a45bc4",
   "metadata": {},
   "outputs": [],
   "source": [
    "# функция формирования предсказания по выборке на одном дереве\n",
    "\n",
    "def predict(data, tree):\n",
    "    \n",
    "    classes = []\n",
    "    for obj in data:\n",
    "        prediction = classify_object(obj, tree)\n",
    "        classes.append(prediction)\n",
    "    return classes"
   ]
  },
  {
   "cell_type": "code",
   "execution_count": 257,
   "id": "2521f36c",
   "metadata": {},
   "outputs": [],
   "source": [
    "def random_forest(data, labels, n_trees, max_depth=None, min_samples_leaf=1, random_state=42):\n",
    "    forest = []\n",
    "    bootstrap = get_bootstrap(data, labels, n_trees)\n",
    "    \n",
    "    for b_data, b_labels in bootstrap:\n",
    "        forest.append(build_tree(b_data, b_labels, min_samples_leaf, max_depth))\n",
    "        \n",
    "    return forest"
   ]
  },
  {
   "cell_type": "code",
   "execution_count": 258,
   "id": "b7af7a81",
   "metadata": {},
   "outputs": [],
   "source": [
    "random.seed(42)\n",
    "\n",
    "def get_bootstrap(data, labels, N):\n",
    "    n_samples = data.shape[0]\n",
    "    bootstrap = []\n",
    "    \n",
    "    for i in range(N):\n",
    "        b_data = np.zeros(data.shape)\n",
    "        b_labels = np.zeros(labels.shape)\n",
    "        \n",
    "        for j in range(n_samples):\n",
    "            sample_index = random.randint(0, n_samples-1)\n",
    "            b_data[j] = data[sample_index]\n",
    "            b_labels[j] = labels[sample_index]\n",
    "        bootstrap.append((b_data, b_labels))\n",
    "        \n",
    "    return bootstrap"
   ]
  },
  {
   "cell_type": "code",
   "execution_count": 259,
   "id": "434d145d",
   "metadata": {},
   "outputs": [],
   "source": [
    "def get_subsample(len_sample):\n",
    "    # будем сохранять не сами признаки, а их индексы\n",
    "    sample_indexes = [i for i in range(len_sample)]\n",
    "    \n",
    "    len_subsample = int(np.sqrt(len_sample))\n",
    "    subsample = []\n",
    "    \n",
    "    random.shuffle(sample_indexes)\n",
    "    for _ in range(len_subsample):\n",
    "        subsample.append(sample_indexes.pop())\n",
    "        \n",
    "    return subsample"
   ]
  },
  {
   "cell_type": "code",
   "execution_count": 260,
   "id": "c53c57bd",
   "metadata": {},
   "outputs": [],
   "source": [
    "# предсказание голосованием деревьев\n",
    "\n",
    "def tree_vote(forest, data):\n",
    "\n",
    "    # добавим предсказания всех деревьев в список\n",
    "    predictions = []\n",
    "    for tree in forest:\n",
    "        predictions.append(predict(data, tree))\n",
    "    \n",
    "    # сформируем список с предсказаниями для каждого объекта\n",
    "    predictions_per_object = list(zip(*predictions))\n",
    "    \n",
    "    # выберем в качестве итогового предсказания для каждого объекта то,\n",
    "    # за которое проголосовало большинство деревьев\n",
    "    voted_predictions = []\n",
    "    for obj in predictions_per_object:\n",
    "        voted_predictions.append(max(set(obj), key=obj.count))\n",
    "        \n",
    "    return voted_predictions"
   ]
  },
  {
   "cell_type": "code",
   "execution_count": 261,
   "id": "4e052334",
   "metadata": {},
   "outputs": [],
   "source": [
    "train_data, test_data, train_labels, test_labels = model_selection.train_test_split(X, \n",
    "                                                                    y, \n",
    "                                                                    test_size = 0.2,\n",
    "                                                                    random_state = 1)"
   ]
  },
  {
   "cell_type": "code",
   "execution_count": 262,
   "id": "72301a45",
   "metadata": {},
   "outputs": [],
   "source": [
    "n_trees = 5"
   ]
  },
  {
   "cell_type": "code",
   "execution_count": 272,
   "id": "4520e561",
   "metadata": {},
   "outputs": [
    {
     "name": "stdout",
     "output_type": "stream",
     "text": [
      "\u001b[31m \n",
      " Количество деревьев = 5\n",
      "Точность случайного леса из 5 деревьев на обучающей выборке: 99.167\n",
      "Точность случайного леса из 5 деревьев на тестовой выборке: 96.667\n"
     ]
    }
   ],
   "source": [
    "print(f'\\033[31m \\n Количество деревьев = {n_trees}')\n",
    "my_forest = random_forest(train_data, train_labels, n_trees)\n",
    "train_answers = tree_vote(my_forest, train_data)\n",
    "test_answers = tree_vote(my_forest, test_data)\n",
    "\n",
    "train_accuracy = accuracy_metric(train_labels, train_answers)\n",
    "print(f'Точность случайного леса из {n_trees} деревьев на обучающей выборке: {train_accuracy:.3f}')\n",
    "test_accuracy = accuracy_metric(test_labels, test_answers)\n",
    "print(f'Точность случайного леса из {n_trees} деревьев на тестовой выборке: {test_accuracy:.3f}')\n"
   ]
  },
  {
   "cell_type": "markdown",
   "id": "0952d174",
   "metadata": {},
   "source": [
    "Обучение модели после применения метода главных компонент(PCA):"
   ]
  },
  {
   "cell_type": "code",
   "execution_count": 273,
   "id": "78e89ccb",
   "metadata": {},
   "outputs": [],
   "source": [
    "# Масштабируем выборку\n",
    "train_data = train_data.astype(float)\n",
    "\n",
    "rows, cols = train_data.shape\n",
    "\n",
    "# центрирование - вычитание из каждого значения среднего по признаку\n",
    "means = train_data.mean(axis=0)\n",
    "for i in range(rows):\n",
    "    for j in range(cols):\n",
    "        train_data[i, j] -= means[j]\n",
    "        \n",
    "# деление каждого значения на стандартное отклонение\n",
    "std = np.std(train_data, axis=0)\n",
    "for j in range(cols):\n",
    "    for i in range(rows):\n",
    "        train_data[i, j] /= std[j]"
   ]
  },
  {
   "cell_type": "code",
   "execution_count": 274,
   "id": "2e5cf3e7",
   "metadata": {},
   "outputs": [
    {
     "name": "stdout",
     "output_type": "stream",
     "text": [
      "Собственные значения в порядке убывания:\n",
      "348.9783384751762\n",
      "109.58899387320982\n",
      "19.29461208160512\n",
      "2.138055570009393\n"
     ]
    }
   ],
   "source": [
    "# Найдем собственные векторы и собственные значения\n",
    " \n",
    "covariance_matrix = train_data.T.dot(train_data)\n",
    "\n",
    "eig_values, eig_vectors = np.linalg.eig(covariance_matrix)\n",
    "\n",
    "# сформируем список кортежей (собственное значение, собственный вектор)\n",
    "eig_pairs = [(np.abs(eig_values[i]), eig_vectors[:, i]) for i in range(len(eig_values))]\n",
    "\n",
    "# и отсортируем список по убыванию собственных значений\n",
    "eig_pairs.sort(key=lambda x: x[0], reverse=True)\n",
    "\n",
    "print('Собственные значения в порядке убывания:')\n",
    "for i in eig_pairs:\n",
    "    print(i[0])"
   ]
  },
  {
   "cell_type": "code",
   "execution_count": 275,
   "id": "7c13883c",
   "metadata": {},
   "outputs": [
    {
     "name": "stdout",
     "output_type": "stream",
     "text": [
      "Доля дисперсии, описываемая каждой из компонент \n",
      "[72.70382051566163, 22.83104039025202, 4.019710850334396, 0.44542824375195644]\n",
      "Кумулятивная доля дисперсии по компонентам \n",
      "[ 72.70382052  95.53486091  99.55457176 100.        ]\n"
     ]
    }
   ],
   "source": [
    "eig_sum = sum(eig_values)\n",
    "var_exp = [(i / eig_sum) * 100 for i in sorted(eig_values, reverse=True)]\n",
    "cum_var_exp = np.cumsum(var_exp)\n",
    "print(f'Доля дисперсии, описываемая каждой из компонент \\n{var_exp}')\n",
    "\n",
    "# а теперя оценим кумулятивную (то есть накапливаемую) дисперсию при учитывании каждой из компонент\n",
    "print(f'Кумулятивная доля дисперсии по компонентам \\n{cum_var_exp}')"
   ]
  },
  {
   "cell_type": "code",
   "execution_count": 276,
   "id": "08c860c0",
   "metadata": {},
   "outputs": [
    {
     "name": "stdout",
     "output_type": "stream",
     "text": [
      "Матрица весов W:\n",
      " [[ 0.52828393 -0.33212851]\n",
      " [-0.25412962 -0.93919659]\n",
      " [ 0.58193019 -0.02900891]\n",
      " [ 0.56364126 -0.0822125 ]]\n"
     ]
    }
   ],
   "source": [
    "# Сформируем вектор весов из собственных векторов, соответствующих первым двум главным компонентам\n",
    "W = np.hstack((eig_pairs[0][1].reshape(4,1), eig_pairs[1][1].reshape(4,1)))\n",
    "\n",
    "print(f'Матрица весов W:\\n', W)"
   ]
  },
  {
   "cell_type": "code",
   "execution_count": 277,
   "id": "a51465bb",
   "metadata": {},
   "outputs": [
    {
     "data": {
      "text/plain": [
       "(120, 2)"
      ]
     },
     "execution_count": 277,
     "metadata": {},
     "output_type": "execute_result"
    }
   ],
   "source": [
    "# Сформируем новую матрицу \"объекты-признаки\"\n",
    "Z_train = train_data.dot(W)\n",
    "Z_train.shape"
   ]
  },
  {
   "cell_type": "code",
   "execution_count": 278,
   "id": "3077e3ec",
   "metadata": {},
   "outputs": [],
   "source": [
    "# Масштабируем тестовую выборку\n",
    "test_data = test_data.astype(float)\n",
    "\n",
    "rows, cols = test_data.shape\n",
    "\n",
    "# центрирование - вычитание из каждого значения среднего по признаку\n",
    "for i in range(rows):\n",
    "    for j in range(cols):\n",
    "        test_data[i, j] -= means[j]\n",
    "        \n",
    "# деление каждого значения на стандартное отклонение\n",
    "for j in range(cols):\n",
    "    for i in range(rows):\n",
    "        test_data[i, j] /= std[j]"
   ]
  },
  {
   "cell_type": "code",
   "execution_count": 279,
   "id": "a9d19986",
   "metadata": {},
   "outputs": [
    {
     "data": {
      "text/plain": [
       "(30, 2)"
      ]
     },
     "execution_count": 279,
     "metadata": {},
     "output_type": "execute_result"
    }
   ],
   "source": [
    "Z_test = test_data.dot(W)\n",
    "Z_test.shape"
   ]
  },
  {
   "cell_type": "code",
   "execution_count": 283,
   "id": "15549c61",
   "metadata": {},
   "outputs": [
    {
     "name": "stdout",
     "output_type": "stream",
     "text": [
      "\u001b[31m \n",
      " Количество деревьев = 5\n",
      "Точность случайного леса из 5 деревьев на обучающей выборке: 98.333\n",
      "Точность случайного леса из 5 деревьев на тестовой выборке: 90.000\n"
     ]
    }
   ],
   "source": [
    "print(f'\\033[31m \\n Количество деревьев = {n_trees}')\n",
    "my_forest = random_forest(Z_train, train_labels, n_trees)\n",
    "train_answers = tree_vote(my_forest, Z_train)\n",
    "test_answers = tree_vote(my_forest, Z_test)\n",
    "\n",
    "train_accuracy = accuracy_metric(train_labels, train_answers)\n",
    "print(f'Точность случайного леса из {n_trees} деревьев на обучающей выборке: {train_accuracy:.3f}')\n",
    "test_accuracy = accuracy_metric(test_labels, test_answers)\n",
    "print(f'Точность случайного леса из {n_trees} деревьев на тестовой выборке: {test_accuracy:.3f}')"
   ]
  },
  {
   "cell_type": "markdown",
   "id": "a3714de9",
   "metadata": {},
   "source": [
    "**При применении метода главных компонент ухудшилась точность работы модели на тестовой выборке, но уменьшились затраты на обучение модели.**"
   ]
  },
  {
   "cell_type": "code",
   "execution_count": null,
   "id": "61e74bb4",
   "metadata": {},
   "outputs": [],
   "source": []
  }
 ],
 "metadata": {
  "kernelspec": {
   "display_name": "Python 3 (ipykernel)",
   "language": "python",
   "name": "python3"
  },
  "language_info": {
   "codemirror_mode": {
    "name": "ipython",
    "version": 3
   },
   "file_extension": ".py",
   "mimetype": "text/x-python",
   "name": "python",
   "nbconvert_exporter": "python",
   "pygments_lexer": "ipython3",
   "version": "3.10.4"
  }
 },
 "nbformat": 4,
 "nbformat_minor": 5
}
